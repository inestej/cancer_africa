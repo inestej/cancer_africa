{
 "cells": [
  {
   "cell_type": "markdown",
   "metadata": {},
   "source": [
    "Ce document a été produit dans le but de produire des données sur l'incidence du cancer en Afrique. Travail réalisé par Yosr Hamdi, Ali Afzal Zatchi, Ines Abdeljaoued, Alia Ben Kahla..."
   ]
  },
  {
   "cell_type": "code",
   "execution_count": 1,
   "metadata": {
    "collapsed": true
   },
   "outputs": [],
   "source": [
    "import os\n",
    "import time\n",
    "from datetime import date, timedelta\n",
    "\n",
    "import pandas as pd\n",
    "import numpy as np\n",
    "\n",
    "import requests \n",
    "from bs4 import BeautifulSoup\n",
    "\n",
    "import io\n",
    "import re\n",
    "import itertools\n",
    "import zipfile"
   ]
  },
  {
   "cell_type": "code",
   "execution_count": null,
   "metadata": {
    "collapsed": true
   },
   "outputs": [],
   "source": []
  },
  {
   "cell_type": "code",
   "execution_count": 2,
   "metadata": {
    "collapsed": true
   },
   "outputs": [],
   "source": [
    "pays = pd.read_excel(\"PaysdAfrique.xlsx\")"
   ]
  },
  {
   "cell_type": "code",
   "execution_count": 3,
   "metadata": {},
   "outputs": [
    {
     "data": {
      "text/html": [
       "<div>\n",
       "<style scoped>\n",
       "    .dataframe tbody tr th:only-of-type {\n",
       "        vertical-align: middle;\n",
       "    }\n",
       "\n",
       "    .dataframe tbody tr th {\n",
       "        vertical-align: top;\n",
       "    }\n",
       "\n",
       "    .dataframe thead th {\n",
       "        text-align: right;\n",
       "    }\n",
       "</style>\n",
       "<table border=\"1\" class=\"dataframe\">\n",
       "  <thead>\n",
       "    <tr style=\"text-align: right;\">\n",
       "      <th></th>\n",
       "      <th>Northern Africa (210 002 000)</th>\n",
       "      <th>West Africa (331 255 000)</th>\n",
       "      <th>Central Africa (135 750 000)</th>\n",
       "      <th>East Africa (373 202 000)</th>\n",
       "      <th>Southern Africa (60 425 000)</th>\n",
       "    </tr>\n",
       "  </thead>\n",
       "  <tbody>\n",
       "    <tr>\n",
       "      <th>0</th>\n",
       "      <td>Maroc (35 280 451)</td>\n",
       "      <td>Mauritanie (4 166 000)</td>\n",
       "      <td>Tchad (14 485 740)</td>\n",
       "      <td>Erythree (5 351 000)</td>\n",
       "      <td>Namibie (2 513 000)</td>\n",
       "    </tr>\n",
       "    <tr>\n",
       "      <th>1</th>\n",
       "      <td>Algerie (40 610 154)</td>\n",
       "      <td>Senegal (15 580 485)</td>\n",
       "      <td>Centrafrique (4 998 000)</td>\n",
       "      <td>Ethiopie (101 850 000)</td>\n",
       "      <td>Botswana (2 3003 000)</td>\n",
       "    </tr>\n",
       "    <tr>\n",
       "      <th>2</th>\n",
       "      <td>Tunise (11 411 212)</td>\n",
       "      <td>Gambie (2 054 000)</td>\n",
       "      <td>Cameroun (23 920 400)</td>\n",
       "      <td>Ouganda (41 175 440)</td>\n",
       "      <td>Afrique du sud (54 975 900)</td>\n",
       "    </tr>\n",
       "    <tr>\n",
       "      <th>3</th>\n",
       "      <td>Libye(6 330 000)</td>\n",
       "      <td>Guinee Bissau (1 888 000)</td>\n",
       "      <td>Guinee Equatoriale (869 000)</td>\n",
       "      <td>Kenya (47 450 250)</td>\n",
       "      <td>Swaziland (1 220 000)</td>\n",
       "    </tr>\n",
       "    <tr>\n",
       "      <th>4</th>\n",
       "      <td>Egypte (93 380 570)</td>\n",
       "      <td>Guinee (12 940 000)</td>\n",
       "      <td>Gabon (1 763 000)</td>\n",
       "      <td>Djibouti (899 000)</td>\n",
       "      <td>Lesotho (2 160 000)</td>\n",
       "    </tr>\n",
       "  </tbody>\n",
       "</table>\n",
       "</div>"
      ],
      "text/plain": [
       "  Northern Africa (210 002 000)  West Africa (331 255 000)  \\\n",
       "0            Maroc (35 280 451)     Mauritanie (4 166 000)   \n",
       "1          Algerie (40 610 154)       Senegal (15 580 485)   \n",
       "2           Tunise (11 411 212)         Gambie (2 054 000)   \n",
       "3              Libye(6 330 000)  Guinee Bissau (1 888 000)   \n",
       "4           Egypte (93 380 570)        Guinee (12 940 000)   \n",
       "\n",
       "   Central Africa (135 750 000) East Africa (373 202 000)  \\\n",
       "0            Tchad (14 485 740)      Erythree (5 351 000)   \n",
       "1      Centrafrique (4 998 000)    Ethiopie (101 850 000)   \n",
       "2         Cameroun (23 920 400)      Ouganda (41 175 440)   \n",
       "3  Guinee Equatoriale (869 000)        Kenya (47 450 250)   \n",
       "4             Gabon (1 763 000)        Djibouti (899 000)   \n",
       "\n",
       "  Southern Africa (60 425 000)  \n",
       "0          Namibie (2 513 000)  \n",
       "1        Botswana (2 3003 000)  \n",
       "2  Afrique du sud (54 975 900)  \n",
       "3        Swaziland (1 220 000)  \n",
       "4          Lesotho (2 160 000)  "
      ]
     },
     "execution_count": 3,
     "metadata": {},
     "output_type": "execute_result"
    }
   ],
   "source": [
    "pays.head()"
   ]
  },
  {
   "cell_type": "code",
   "execution_count": 4,
   "metadata": {
    "collapsed": true
   },
   "outputs": [],
   "source": [
    "evolution = pd.read_excel(\"regionsAfrique.xlsx\")"
   ]
  },
  {
   "cell_type": "code",
   "execution_count": 5,
   "metadata": {},
   "outputs": [
    {
     "data": {
      "text/html": [
       "<div>\n",
       "<style scoped>\n",
       "    .dataframe tbody tr th:only-of-type {\n",
       "        vertical-align: middle;\n",
       "    }\n",
       "\n",
       "    .dataframe tbody tr th {\n",
       "        vertical-align: top;\n",
       "    }\n",
       "\n",
       "    .dataframe thead th {\n",
       "        text-align: right;\n",
       "    }\n",
       "</style>\n",
       "<table border=\"1\" class=\"dataframe\">\n",
       "  <thead>\n",
       "    <tr style=\"text-align: right;\">\n",
       "      <th></th>\n",
       "      <th>Region</th>\n",
       "      <th>B_C2002</th>\n",
       "      <th>B_C2008</th>\n",
       "      <th>B_C2012</th>\n",
       "      <th>BC_2018</th>\n",
       "      <th>B_C2002Mort</th>\n",
       "      <th>B_C2008Mort</th>\n",
       "      <th>B_C2012Mort</th>\n",
       "      <th>BC_2018Mort</th>\n",
       "      <th>Unnamed: 9</th>\n",
       "      <th>...</th>\n",
       "      <th>Bladder 2018 F</th>\n",
       "      <th>Unnamed: 81</th>\n",
       "      <th>Thyroid 2002 M</th>\n",
       "      <th>Thyroid 2002 F</th>\n",
       "      <th>Thyroid 2008 M</th>\n",
       "      <th>Thyroid 2008 F</th>\n",
       "      <th>Thyroid 2012 M</th>\n",
       "      <th>Thyroid 2012 F</th>\n",
       "      <th>Thyroid 2018 M</th>\n",
       "      <th>Thyroid 2018 F</th>\n",
       "    </tr>\n",
       "  </thead>\n",
       "  <tbody>\n",
       "    <tr>\n",
       "      <th>0</th>\n",
       "      <td>North</td>\n",
       "      <td>23.2</td>\n",
       "      <td>32.7</td>\n",
       "      <td>43.2</td>\n",
       "      <td>48.9</td>\n",
       "      <td>16.7</td>\n",
       "      <td>17.8</td>\n",
       "      <td>17.4</td>\n",
       "      <td>18.4</td>\n",
       "      <td>NaN</td>\n",
       "      <td>...</td>\n",
       "      <td>3.2</td>\n",
       "      <td>NaN</td>\n",
       "      <td>NaN</td>\n",
       "      <td>NaN</td>\n",
       "      <td>NaN</td>\n",
       "      <td>NaN</td>\n",
       "      <td>1.4</td>\n",
       "      <td>4.4</td>\n",
       "      <td>1.6</td>\n",
       "      <td>5.7</td>\n",
       "    </tr>\n",
       "    <tr>\n",
       "      <th>1</th>\n",
       "      <td>West</td>\n",
       "      <td>27.8</td>\n",
       "      <td>31.8</td>\n",
       "      <td>38.6</td>\n",
       "      <td>37.3</td>\n",
       "      <td>19.6</td>\n",
       "      <td>19.0</td>\n",
       "      <td>20.1</td>\n",
       "      <td>17.8</td>\n",
       "      <td>NaN</td>\n",
       "      <td>...</td>\n",
       "      <td>1.4</td>\n",
       "      <td>NaN</td>\n",
       "      <td>NaN</td>\n",
       "      <td>NaN</td>\n",
       "      <td>NaN</td>\n",
       "      <td>NaN</td>\n",
       "      <td>0.3</td>\n",
       "      <td>1.0</td>\n",
       "      <td>0.5</td>\n",
       "      <td>1.5</td>\n",
       "    </tr>\n",
       "    <tr>\n",
       "      <th>2</th>\n",
       "      <td>Central</td>\n",
       "      <td>16.5</td>\n",
       "      <td>21.3</td>\n",
       "      <td>26.8</td>\n",
       "      <td>27.9</td>\n",
       "      <td>12.1</td>\n",
       "      <td>13.1</td>\n",
       "      <td>14.9</td>\n",
       "      <td>15.8</td>\n",
       "      <td>NaN</td>\n",
       "      <td>...</td>\n",
       "      <td>1.0</td>\n",
       "      <td>NaN</td>\n",
       "      <td>NaN</td>\n",
       "      <td>NaN</td>\n",
       "      <td>NaN</td>\n",
       "      <td>NaN</td>\n",
       "      <td>0.7</td>\n",
       "      <td>1.2</td>\n",
       "      <td>0.8</td>\n",
       "      <td>1.3</td>\n",
       "    </tr>\n",
       "    <tr>\n",
       "      <th>3</th>\n",
       "      <td>East</td>\n",
       "      <td>19.5</td>\n",
       "      <td>19.3</td>\n",
       "      <td>30.4</td>\n",
       "      <td>29.9</td>\n",
       "      <td>14.1</td>\n",
       "      <td>11.4</td>\n",
       "      <td>15.6</td>\n",
       "      <td>15.4</td>\n",
       "      <td>NaN</td>\n",
       "      <td>...</td>\n",
       "      <td>2.4</td>\n",
       "      <td>NaN</td>\n",
       "      <td>NaN</td>\n",
       "      <td>NaN</td>\n",
       "      <td>NaN</td>\n",
       "      <td>NaN</td>\n",
       "      <td>1.1</td>\n",
       "      <td>2.7</td>\n",
       "      <td>1.1</td>\n",
       "      <td>2.5</td>\n",
       "    </tr>\n",
       "    <tr>\n",
       "      <th>4</th>\n",
       "      <td>South</td>\n",
       "      <td>33.4</td>\n",
       "      <td>38.1</td>\n",
       "      <td>38.9</td>\n",
       "      <td>46.2</td>\n",
       "      <td>16.3</td>\n",
       "      <td>19.3</td>\n",
       "      <td>15.5</td>\n",
       "      <td>15.6</td>\n",
       "      <td>NaN</td>\n",
       "      <td>...</td>\n",
       "      <td>1.5</td>\n",
       "      <td>NaN</td>\n",
       "      <td>NaN</td>\n",
       "      <td>NaN</td>\n",
       "      <td>NaN</td>\n",
       "      <td>NaN</td>\n",
       "      <td>0.6</td>\n",
       "      <td>1.6</td>\n",
       "      <td>1.7</td>\n",
       "      <td>6.0</td>\n",
       "    </tr>\n",
       "  </tbody>\n",
       "</table>\n",
       "<p>5 rows × 90 columns</p>\n",
       "</div>"
      ],
      "text/plain": [
       "    Region  B_C2002  B_C2008  B_C2012  BC_2018  B_C2002Mort  B_C2008Mort  \\\n",
       "0    North     23.2     32.7     43.2     48.9         16.7         17.8   \n",
       "1     West     27.8     31.8     38.6     37.3         19.6         19.0   \n",
       "2  Central     16.5     21.3     26.8     27.9         12.1         13.1   \n",
       "3     East     19.5     19.3     30.4     29.9         14.1         11.4   \n",
       "4    South     33.4     38.1     38.9     46.2         16.3         19.3   \n",
       "\n",
       "   B_C2012Mort  BC_2018Mort  Unnamed: 9       ...        Bladder 2018 F  \\\n",
       "0         17.4         18.4         NaN       ...                   3.2   \n",
       "1         20.1         17.8         NaN       ...                   1.4   \n",
       "2         14.9         15.8         NaN       ...                   1.0   \n",
       "3         15.6         15.4         NaN       ...                   2.4   \n",
       "4         15.5         15.6         NaN       ...                   1.5   \n",
       "\n",
       "   Unnamed: 81  Thyroid 2002 M   Thyroid 2002 F   Thyroid 2008 M  \\\n",
       "0          NaN             NaN              NaN              NaN   \n",
       "1          NaN             NaN              NaN              NaN   \n",
       "2          NaN             NaN              NaN              NaN   \n",
       "3          NaN             NaN              NaN              NaN   \n",
       "4          NaN             NaN              NaN              NaN   \n",
       "\n",
       "   Thyroid 2008 F   Thyroid 2012 M  Thyroid 2012 F   Thyroid 2018 M  \\\n",
       "0             NaN              1.4             4.4              1.6   \n",
       "1             NaN              0.3             1.0              0.5   \n",
       "2             NaN              0.7             1.2              0.8   \n",
       "3             NaN              1.1             2.7              1.1   \n",
       "4             NaN              0.6             1.6              1.7   \n",
       "\n",
       "   Thyroid 2018 F  \n",
       "0             5.7  \n",
       "1             1.5  \n",
       "2             1.3  \n",
       "3             2.5  \n",
       "4             6.0  \n",
       "\n",
       "[5 rows x 90 columns]"
      ]
     },
     "execution_count": 5,
     "metadata": {},
     "output_type": "execute_result"
    }
   ],
   "source": [
    "evolution.head()"
   ]
  },
  {
   "cell_type": "code",
   "execution_count": 6,
   "metadata": {
    "collapsed": true
   },
   "outputs": [],
   "source": [
    "annee = [\"2002\",\"2008\",\"2012\",\"2018\"]"
   ]
  },
  {
   "cell_type": "code",
   "execution_count": 7,
   "metadata": {},
   "outputs": [
    {
     "data": {
      "text/html": [
       "<div>\n",
       "<style scoped>\n",
       "    .dataframe tbody tr th:only-of-type {\n",
       "        vertical-align: middle;\n",
       "    }\n",
       "\n",
       "    .dataframe tbody tr th {\n",
       "        vertical-align: top;\n",
       "    }\n",
       "\n",
       "    .dataframe thead th {\n",
       "        text-align: right;\n",
       "    }\n",
       "</style>\n",
       "<table border=\"1\" class=\"dataframe\">\n",
       "  <thead>\n",
       "    <tr style=\"text-align: right;\">\n",
       "      <th></th>\n",
       "      <th>Region</th>\n",
       "      <th>B_C2002</th>\n",
       "      <th>B_C2008</th>\n",
       "      <th>B_C2012</th>\n",
       "      <th>BC_2018</th>\n",
       "      <th>B_C2002Mort</th>\n",
       "      <th>B_C2008Mort</th>\n",
       "      <th>B_C2012Mort</th>\n",
       "      <th>BC_2018Mort</th>\n",
       "      <th>Unnamed: 9</th>\n",
       "      <th>...</th>\n",
       "      <th>Bladder 2018 F</th>\n",
       "      <th>Unnamed: 81</th>\n",
       "      <th>Thyroid 2002 M</th>\n",
       "      <th>Thyroid 2002 F</th>\n",
       "      <th>Thyroid 2008 M</th>\n",
       "      <th>Thyroid 2008 F</th>\n",
       "      <th>Thyroid 2012 M</th>\n",
       "      <th>Thyroid 2012 F</th>\n",
       "      <th>Thyroid 2018 M</th>\n",
       "      <th>Thyroid 2018 F</th>\n",
       "    </tr>\n",
       "  </thead>\n",
       "  <tbody>\n",
       "    <tr>\n",
       "      <th>North</th>\n",
       "      <td>North</td>\n",
       "      <td>23.2</td>\n",
       "      <td>32.7</td>\n",
       "      <td>43.2</td>\n",
       "      <td>48.9</td>\n",
       "      <td>16.7</td>\n",
       "      <td>17.8</td>\n",
       "      <td>17.4</td>\n",
       "      <td>18.4</td>\n",
       "      <td>NaN</td>\n",
       "      <td>...</td>\n",
       "      <td>3.2</td>\n",
       "      <td>NaN</td>\n",
       "      <td>NaN</td>\n",
       "      <td>NaN</td>\n",
       "      <td>NaN</td>\n",
       "      <td>NaN</td>\n",
       "      <td>1.4</td>\n",
       "      <td>4.4</td>\n",
       "      <td>1.6</td>\n",
       "      <td>5.7</td>\n",
       "    </tr>\n",
       "    <tr>\n",
       "      <th>West</th>\n",
       "      <td>West</td>\n",
       "      <td>27.8</td>\n",
       "      <td>31.8</td>\n",
       "      <td>38.6</td>\n",
       "      <td>37.3</td>\n",
       "      <td>19.6</td>\n",
       "      <td>19.0</td>\n",
       "      <td>20.1</td>\n",
       "      <td>17.8</td>\n",
       "      <td>NaN</td>\n",
       "      <td>...</td>\n",
       "      <td>1.4</td>\n",
       "      <td>NaN</td>\n",
       "      <td>NaN</td>\n",
       "      <td>NaN</td>\n",
       "      <td>NaN</td>\n",
       "      <td>NaN</td>\n",
       "      <td>0.3</td>\n",
       "      <td>1.0</td>\n",
       "      <td>0.5</td>\n",
       "      <td>1.5</td>\n",
       "    </tr>\n",
       "    <tr>\n",
       "      <th>Central</th>\n",
       "      <td>Central</td>\n",
       "      <td>16.5</td>\n",
       "      <td>21.3</td>\n",
       "      <td>26.8</td>\n",
       "      <td>27.9</td>\n",
       "      <td>12.1</td>\n",
       "      <td>13.1</td>\n",
       "      <td>14.9</td>\n",
       "      <td>15.8</td>\n",
       "      <td>NaN</td>\n",
       "      <td>...</td>\n",
       "      <td>1.0</td>\n",
       "      <td>NaN</td>\n",
       "      <td>NaN</td>\n",
       "      <td>NaN</td>\n",
       "      <td>NaN</td>\n",
       "      <td>NaN</td>\n",
       "      <td>0.7</td>\n",
       "      <td>1.2</td>\n",
       "      <td>0.8</td>\n",
       "      <td>1.3</td>\n",
       "    </tr>\n",
       "    <tr>\n",
       "      <th>East</th>\n",
       "      <td>East</td>\n",
       "      <td>19.5</td>\n",
       "      <td>19.3</td>\n",
       "      <td>30.4</td>\n",
       "      <td>29.9</td>\n",
       "      <td>14.1</td>\n",
       "      <td>11.4</td>\n",
       "      <td>15.6</td>\n",
       "      <td>15.4</td>\n",
       "      <td>NaN</td>\n",
       "      <td>...</td>\n",
       "      <td>2.4</td>\n",
       "      <td>NaN</td>\n",
       "      <td>NaN</td>\n",
       "      <td>NaN</td>\n",
       "      <td>NaN</td>\n",
       "      <td>NaN</td>\n",
       "      <td>1.1</td>\n",
       "      <td>2.7</td>\n",
       "      <td>1.1</td>\n",
       "      <td>2.5</td>\n",
       "    </tr>\n",
       "    <tr>\n",
       "      <th>South</th>\n",
       "      <td>South</td>\n",
       "      <td>33.4</td>\n",
       "      <td>38.1</td>\n",
       "      <td>38.9</td>\n",
       "      <td>46.2</td>\n",
       "      <td>16.3</td>\n",
       "      <td>19.3</td>\n",
       "      <td>15.5</td>\n",
       "      <td>15.6</td>\n",
       "      <td>NaN</td>\n",
       "      <td>...</td>\n",
       "      <td>1.5</td>\n",
       "      <td>NaN</td>\n",
       "      <td>NaN</td>\n",
       "      <td>NaN</td>\n",
       "      <td>NaN</td>\n",
       "      <td>NaN</td>\n",
       "      <td>0.6</td>\n",
       "      <td>1.6</td>\n",
       "      <td>1.7</td>\n",
       "      <td>6.0</td>\n",
       "    </tr>\n",
       "  </tbody>\n",
       "</table>\n",
       "<p>5 rows × 90 columns</p>\n",
       "</div>"
      ],
      "text/plain": [
       "          Region  B_C2002  B_C2008  B_C2012  BC_2018  B_C2002Mort  \\\n",
       "North      North     23.2     32.7     43.2     48.9         16.7   \n",
       "West        West     27.8     31.8     38.6     37.3         19.6   \n",
       "Central  Central     16.5     21.3     26.8     27.9         12.1   \n",
       "East        East     19.5     19.3     30.4     29.9         14.1   \n",
       "South      South     33.4     38.1     38.9     46.2         16.3   \n",
       "\n",
       "         B_C2008Mort  B_C2012Mort  BC_2018Mort  Unnamed: 9       ...        \\\n",
       "North           17.8         17.4         18.4         NaN       ...         \n",
       "West            19.0         20.1         17.8         NaN       ...         \n",
       "Central         13.1         14.9         15.8         NaN       ...         \n",
       "East            11.4         15.6         15.4         NaN       ...         \n",
       "South           19.3         15.5         15.6         NaN       ...         \n",
       "\n",
       "         Bladder 2018 F  Unnamed: 81  Thyroid 2002 M   Thyroid 2002 F  \\\n",
       "North               3.2          NaN             NaN              NaN   \n",
       "West                1.4          NaN             NaN              NaN   \n",
       "Central             1.0          NaN             NaN              NaN   \n",
       "East                2.4          NaN             NaN              NaN   \n",
       "South               1.5          NaN             NaN              NaN   \n",
       "\n",
       "          Thyroid 2008 M  Thyroid 2008 F   Thyroid 2012 M  Thyroid 2012 F  \\\n",
       "North                NaN             NaN              1.4             4.4   \n",
       "West                 NaN             NaN              0.3             1.0   \n",
       "Central              NaN             NaN              0.7             1.2   \n",
       "East                 NaN             NaN              1.1             2.7   \n",
       "South                NaN             NaN              0.6             1.6   \n",
       "\n",
       "          Thyroid 2018 M  Thyroid 2018 F  \n",
       "North                1.6             5.7  \n",
       "West                 0.5             1.5  \n",
       "Central              0.8             1.3  \n",
       "East                 1.1             2.5  \n",
       "South                1.7             6.0  \n",
       "\n",
       "[5 rows x 90 columns]"
      ]
     },
     "execution_count": 7,
     "metadata": {},
     "output_type": "execute_result"
    }
   ],
   "source": [
    "index = [\"North\", \"West\", \"Central\", \"East\", \"South\"]\n",
    "evolution.index = index\n",
    "evolution"
   ]
  },
  {
   "cell_type": "code",
   "execution_count": 8,
   "metadata": {},
   "outputs": [
    {
     "data": {
      "text/html": [
       "<div>\n",
       "<style scoped>\n",
       "    .dataframe tbody tr th:only-of-type {\n",
       "        vertical-align: middle;\n",
       "    }\n",
       "\n",
       "    .dataframe tbody tr th {\n",
       "        vertical-align: top;\n",
       "    }\n",
       "\n",
       "    .dataframe thead th {\n",
       "        text-align: right;\n",
       "    }\n",
       "</style>\n",
       "<table border=\"1\" class=\"dataframe\">\n",
       "  <thead>\n",
       "    <tr style=\"text-align: right;\">\n",
       "      <th></th>\n",
       "      <th>2002</th>\n",
       "      <th>2008</th>\n",
       "      <th>2012</th>\n",
       "      <th>2018</th>\n",
       "    </tr>\n",
       "  </thead>\n",
       "  <tbody>\n",
       "    <tr>\n",
       "      <th>North</th>\n",
       "      <td>1.75</td>\n",
       "      <td>1.80</td>\n",
       "      <td>1.95</td>\n",
       "      <td>1.55</td>\n",
       "    </tr>\n",
       "    <tr>\n",
       "      <th>West</th>\n",
       "      <td>0.95</td>\n",
       "      <td>1.20</td>\n",
       "      <td>0.60</td>\n",
       "      <td>1.20</td>\n",
       "    </tr>\n",
       "    <tr>\n",
       "      <th>Central</th>\n",
       "      <td>0.85</td>\n",
       "      <td>1.15</td>\n",
       "      <td>3.10</td>\n",
       "      <td>1.90</td>\n",
       "    </tr>\n",
       "    <tr>\n",
       "      <th>East</th>\n",
       "      <td>13.55</td>\n",
       "      <td>10.65</td>\n",
       "      <td>9.85</td>\n",
       "      <td>8.40</td>\n",
       "    </tr>\n",
       "    <tr>\n",
       "      <th>South</th>\n",
       "      <td>13.35</td>\n",
       "      <td>17.00</td>\n",
       "      <td>10.20</td>\n",
       "      <td>8.05</td>\n",
       "    </tr>\n",
       "  </tbody>\n",
       "</table>\n",
       "</div>"
      ],
      "text/plain": [
       "          2002   2008   2012  2018\n",
       "North     1.75   1.80   1.95  1.55\n",
       "West      0.95   1.20   0.60  1.20\n",
       "Central   0.85   1.15   3.10  1.90\n",
       "East     13.55  10.65   9.85  8.40\n",
       "South    13.35  17.00  10.20  8.05"
      ]
     },
     "execution_count": 8,
     "metadata": {},
     "output_type": "execute_result"
    }
   ],
   "source": [
    "#Incidence Eosophagus cancer\n",
    "esm = pd.DataFrame(evolution, columns=['Es_C2M', 'Es_C8M', 'Es_C12M', 'Es_C18M']).transpose()\n",
    "esw = pd.DataFrame(evolution, columns=['Es_C2F', 'Es_C8F', 'Es_C12F','Es_C18F']).transpose()\n",
    "\n",
    "#Both men and women\n",
    "esm.index = annee\n",
    "esw.index = annee\n",
    "eosophagussomme = esm.add(esw).transpose()/2\n",
    "eosophagussomme"
   ]
  },
  {
   "cell_type": "code",
   "execution_count": 9,
   "metadata": {},
   "outputs": [
    {
     "data": {
      "text/html": [
       "<div>\n",
       "<style scoped>\n",
       "    .dataframe tbody tr th:only-of-type {\n",
       "        vertical-align: middle;\n",
       "    }\n",
       "\n",
       "    .dataframe tbody tr th {\n",
       "        vertical-align: top;\n",
       "    }\n",
       "\n",
       "    .dataframe thead th {\n",
       "        text-align: right;\n",
       "    }\n",
       "</style>\n",
       "<table border=\"1\" class=\"dataframe\">\n",
       "  <thead>\n",
       "    <tr style=\"text-align: right;\">\n",
       "      <th></th>\n",
       "      <th>2002</th>\n",
       "      <th>2008</th>\n",
       "      <th>2012</th>\n",
       "      <th>2018</th>\n",
       "    </tr>\n",
       "  </thead>\n",
       "  <tbody>\n",
       "    <tr>\n",
       "      <th>North</th>\n",
       "      <td>1.75</td>\n",
       "      <td>1.80</td>\n",
       "      <td>1.95</td>\n",
       "      <td>1.55</td>\n",
       "    </tr>\n",
       "    <tr>\n",
       "      <th>West</th>\n",
       "      <td>0.95</td>\n",
       "      <td>1.20</td>\n",
       "      <td>0.60</td>\n",
       "      <td>1.20</td>\n",
       "    </tr>\n",
       "    <tr>\n",
       "      <th>Central</th>\n",
       "      <td>0.85</td>\n",
       "      <td>1.15</td>\n",
       "      <td>3.10</td>\n",
       "      <td>1.90</td>\n",
       "    </tr>\n",
       "    <tr>\n",
       "      <th>East</th>\n",
       "      <td>13.55</td>\n",
       "      <td>10.65</td>\n",
       "      <td>9.85</td>\n",
       "      <td>8.40</td>\n",
       "    </tr>\n",
       "    <tr>\n",
       "      <th>South</th>\n",
       "      <td>13.35</td>\n",
       "      <td>17.00</td>\n",
       "      <td>10.20</td>\n",
       "      <td>8.05</td>\n",
       "    </tr>\n",
       "  </tbody>\n",
       "</table>\n",
       "</div>"
      ],
      "text/plain": [
       "          2002   2008   2012  2018\n",
       "North     1.75   1.80   1.95  1.55\n",
       "West      0.95   1.20   0.60  1.20\n",
       "Central   0.85   1.15   3.10  1.90\n",
       "East     13.55  10.65   9.85  8.40\n",
       "South    13.35  17.00  10.20  8.05"
      ]
     },
     "execution_count": 9,
     "metadata": {},
     "output_type": "execute_result"
    }
   ],
   "source": [
    "eosophagussomme"
   ]
  },
  {
   "cell_type": "markdown",
   "metadata": {},
   "source": [
    "middle=c(\"CHA\",\"CAR\",\"CAM\",\"EQG\",\"GAB\",\"CNG\",\"ZAI\",\"ANG\")\n",
    "west=c(\"CAP\",\"MAU\",\"SEN\",\"GAM\",\"GUB\",\"WES\",\"GIN\",\"SIL\",\"LIB\",\"CDI\",\"MAL\",\"BUF\",\"GHA\",\"TOG\",\"BEN\",\"NIG\",\"NIR\")\n",
    "east=c(\"MOZ\",\"COM\",\"STP\",\"ERI\",\"ETH\",\"UGA\",\"KEN\",\"DJI\",\"SOM\",\"RWA\",\"BUR\",\"TAN\",\"MAA\",\"ZIM\",\"ZAM\",\"MAD\" )"
   ]
  },
  {
   "cell_type": "code",
   "execution_count": 10,
   "metadata": {
    "collapsed": true
   },
   "outputs": [],
   "source": [
    "North = [\"MAR\",\"DZA\",\"TUN\",\"LBY\",\"EGY\",\"SDN\", \"SSD\"]\n",
    "South = [\"NAM\",\"BWA\",\"ZAF\",\"SWZ\",\"LSO\"] \n",
    "Central = [\"TCD\",\"CAF\",\"CMR\",\"GNQ\",\"GAB\",\"COG\",\"COD\",\"AGO\", \"STP\"]#ok\n",
    "\n",
    "West = [\"MRT\",\"SEN\",\"GMB\",\"GIN\",\"SLE\",\"LBR\",\"GHA\",\"TGO\",\"BEN\",\"NGA\", \"BFA\", \"CPV\", \"CIV\", \"GNB\", \"MLI\", \"NER\",'ESH']\n",
    "East = [\"BDI\", \"COM\", \"DJI\", \"ERI\", \"ETH\", \"KEN\", \"MDG\", \"MWI\", \"MUS\", \"MOZ\", \"RWA\", \"SYC\", \"SOM\", \"UGA\", \"ZMB\", \"ZWE\", \"TZA\", \"-99\"]"
   ]
  },
  {
   "cell_type": "code",
   "execution_count": 11,
   "metadata": {},
   "outputs": [
    {
     "data": {
      "text/plain": [
       "(7, 9, 5)"
      ]
     },
     "execution_count": 11,
     "metadata": {},
     "output_type": "execute_result"
    }
   ],
   "source": [
    "len(North), len(Central), len(South)"
   ]
  },
  {
   "cell_type": "code",
   "execution_count": 12,
   "metadata": {},
   "outputs": [
    {
     "data": {
      "text/plain": [
       "(18, 17)"
      ]
     },
     "execution_count": 12,
     "metadata": {},
     "output_type": "execute_result"
    }
   ],
   "source": [
    "len(East), len(West)"
   ]
  },
  {
   "cell_type": "code",
   "execution_count": 13,
   "metadata": {},
   "outputs": [
    {
     "data": {
      "text/html": [
       "<div>\n",
       "<style scoped>\n",
       "    .dataframe tbody tr th:only-of-type {\n",
       "        vertical-align: middle;\n",
       "    }\n",
       "\n",
       "    .dataframe tbody tr th {\n",
       "        vertical-align: top;\n",
       "    }\n",
       "\n",
       "    .dataframe thead th {\n",
       "        text-align: right;\n",
       "    }\n",
       "</style>\n",
       "<table border=\"1\" class=\"dataframe\">\n",
       "  <thead>\n",
       "    <tr style=\"text-align: right;\">\n",
       "      <th></th>\n",
       "      <th>Northern Africa (210 002 000)</th>\n",
       "      <th>West Africa (331 255 000)</th>\n",
       "      <th>Central Africa (135 750 000)</th>\n",
       "      <th>East Africa (373 202 000)</th>\n",
       "      <th>Southern Africa (60 425 000)</th>\n",
       "    </tr>\n",
       "  </thead>\n",
       "  <tbody>\n",
       "    <tr>\n",
       "      <th>0</th>\n",
       "      <td>Maroc (35 280 451)</td>\n",
       "      <td>Mauritanie (4 166 000)</td>\n",
       "      <td>Tchad (14 485 740)</td>\n",
       "      <td>Erythree (5 351 000)</td>\n",
       "      <td>Namibie (2 513 000)</td>\n",
       "    </tr>\n",
       "    <tr>\n",
       "      <th>1</th>\n",
       "      <td>Algerie (40 610 154)</td>\n",
       "      <td>Senegal (15 580 485)</td>\n",
       "      <td>Centrafrique (4 998 000)</td>\n",
       "      <td>Ethiopie (101 850 000)</td>\n",
       "      <td>Botswana (2 3003 000)</td>\n",
       "    </tr>\n",
       "    <tr>\n",
       "      <th>2</th>\n",
       "      <td>Tunise (11 411 212)</td>\n",
       "      <td>Gambie (2 054 000)</td>\n",
       "      <td>Cameroun (23 920 400)</td>\n",
       "      <td>Ouganda (41 175 440)</td>\n",
       "      <td>Afrique du sud (54 975 900)</td>\n",
       "    </tr>\n",
       "    <tr>\n",
       "      <th>3</th>\n",
       "      <td>Libye(6 330 000)</td>\n",
       "      <td>Guinee Bissau (1 888 000)</td>\n",
       "      <td>Guinee Equatoriale (869 000)</td>\n",
       "      <td>Kenya (47 450 250)</td>\n",
       "      <td>Swaziland (1 220 000)</td>\n",
       "    </tr>\n",
       "    <tr>\n",
       "      <th>4</th>\n",
       "      <td>Egypte (93 380 570)</td>\n",
       "      <td>Guinee (12 940 000)</td>\n",
       "      <td>Gabon (1 763 000)</td>\n",
       "      <td>Djibouti (899 000)</td>\n",
       "      <td>Lesotho (2 160 000)</td>\n",
       "    </tr>\n",
       "  </tbody>\n",
       "</table>\n",
       "</div>"
      ],
      "text/plain": [
       "  Northern Africa (210 002 000)  West Africa (331 255 000)  \\\n",
       "0            Maroc (35 280 451)     Mauritanie (4 166 000)   \n",
       "1          Algerie (40 610 154)       Senegal (15 580 485)   \n",
       "2           Tunise (11 411 212)         Gambie (2 054 000)   \n",
       "3              Libye(6 330 000)  Guinee Bissau (1 888 000)   \n",
       "4           Egypte (93 380 570)        Guinee (12 940 000)   \n",
       "\n",
       "   Central Africa (135 750 000) East Africa (373 202 000)  \\\n",
       "0            Tchad (14 485 740)      Erythree (5 351 000)   \n",
       "1      Centrafrique (4 998 000)    Ethiopie (101 850 000)   \n",
       "2         Cameroun (23 920 400)      Ouganda (41 175 440)   \n",
       "3  Guinee Equatoriale (869 000)        Kenya (47 450 250)   \n",
       "4             Gabon (1 763 000)        Djibouti (899 000)   \n",
       "\n",
       "  Southern Africa (60 425 000)  \n",
       "0          Namibie (2 513 000)  \n",
       "1        Botswana (2 3003 000)  \n",
       "2  Afrique du sud (54 975 900)  \n",
       "3        Swaziland (1 220 000)  \n",
       "4          Lesotho (2 160 000)  "
      ]
     },
     "execution_count": 13,
     "metadata": {},
     "output_type": "execute_result"
    }
   ],
   "source": [
    "pays.head()"
   ]
  },
  {
   "cell_type": "markdown",
   "metadata": {},
   "source": [
    "Ajout d'une colonne région (Reg) dans la base 'Africa' (qui est .shp)\n",
    "Régler ce problème pour la suite des affichages sur la carte\n",
    "\n",
    "Fonction nous permettant d'ajouter des données d'incidence ou de mortalité ou de fatalité"
   ]
  },
  {
   "cell_type": "code",
   "execution_count": 14,
   "metadata": {
    "collapsed": true
   },
   "outputs": [],
   "source": [
    "#!pip install pyshp\n",
    "import numpy as np\n",
    "import pandas as pd\n",
    "import shapefile as shp\n",
    "import matplotlib.pyplot as plt\n",
    "import seaborn as sns"
   ]
  },
  {
   "cell_type": "code",
   "execution_count": 15,
   "metadata": {
    "collapsed": true
   },
   "outputs": [],
   "source": [
    "#comuna = 'Tunisia'\n",
    "#com_id = df[df.ADM0_NAME == comuna].index.get_values()[0]\n",
    "#plot_shape(com_id, comuna)\n",
    "#print(com_id)"
   ]
  },
  {
   "cell_type": "code",
   "execution_count": 16,
   "metadata": {
    "collapsed": true
   },
   "outputs": [],
   "source": [
    "import geopandas as gp\n",
    "import numpy as np\n",
    "import matplotlib.pyplot as plt\n",
    "import sys\n",
    "path = gp.datasets.get_path('naturalearth_lowres')\n",
    "earth = gp.read_file(path)\n",
    "africa = earth[earth.continent=='Africa'].copy()"
   ]
  },
  {
   "cell_type": "code",
   "execution_count": 17,
   "metadata": {},
   "outputs": [
    {
     "data": {
      "text/plain": [
       "geopandas.geodataframe.GeoDataFrame"
      ]
     },
     "execution_count": 17,
     "metadata": {},
     "output_type": "execute_result"
    }
   ],
   "source": [
    "type(africa)"
   ]
  },
  {
   "cell_type": "code",
   "execution_count": 18,
   "metadata": {},
   "outputs": [
    {
     "data": {
      "text/plain": [
       "geopandas.geoseries.GeoSeries"
      ]
     },
     "execution_count": 18,
     "metadata": {},
     "output_type": "execute_result"
    }
   ],
   "source": [
    "type(africa.geometry)"
   ]
  },
  {
   "cell_type": "code",
   "execution_count": 19,
   "metadata": {},
   "outputs": [
    {
     "data": {
      "text/plain": [
       "shapely.geometry.polygon.Polygon"
      ]
     },
     "execution_count": 19,
     "metadata": {},
     "output_type": "execute_result"
    }
   ],
   "source": [
    "type(africa.geometry[0])"
   ]
  },
  {
   "cell_type": "code",
   "execution_count": 20,
   "metadata": {},
   "outputs": [
    {
     "data": {
      "text/plain": [
       "<matplotlib.axes._subplots.AxesSubplot at 0x11d83ee10>"
      ]
     },
     "execution_count": 20,
     "metadata": {},
     "output_type": "execute_result"
    }
   ],
   "source": [
    "africa.plot()\n",
    "#plt.show()"
   ]
  },
  {
   "cell_type": "code",
   "execution_count": 21,
   "metadata": {},
   "outputs": [
    {
     "data": {
      "text/plain": [
       "Index(['pop_est', 'continent', 'name', 'iso_a3', 'gdp_md_est', 'geometry'], dtype='object')"
      ]
     },
     "execution_count": 21,
     "metadata": {},
     "output_type": "execute_result"
    }
   ],
   "source": [
    "africa.columns"
   ]
  },
  {
   "cell_type": "code",
   "execution_count": 22,
   "metadata": {
    "collapsed": true
   },
   "outputs": [],
   "source": [
    "#!pip install geopandas\n",
    "#!pip install descartes"
   ]
  },
  {
   "cell_type": "code",
   "execution_count": 23,
   "metadata": {},
   "outputs": [
    {
     "name": "stdout",
     "output_type": "stream",
     "text": [
      "['East', 'West', 'Central', 'East', 'East', 'North', 'Central', 'South', 'South', 'East', 'South', 'South', 'West', 'West', 'West', 'West', 'West', 'West', 'Central', 'West', 'West', 'West', 'West', 'West', 'West', 'West', 'West', 'Central', 'Central', 'Central', 'Central', 'East', 'East', 'East', 'South', 'Central', 'East', 'East', 'West', 'North', 'North', 'East', 'North', 'North', 'North', 'East', 'East', 'East', 'East', 'East', 'North']\n"
     ]
    }
   ],
   "source": [
    "t = africa['iso_a3'].copy()\n",
    "reg = ['NULL' for i in range(len(t))]\n",
    "for i in range(51):\n",
    "    x = t.iloc[i]\n",
    "    if x in North:\n",
    "        reg[i] = 'North'\n",
    "        #print(reg)\n",
    "    elif x in East:\n",
    "        reg[i] = 'East'\n",
    "    elif x in West:\n",
    "        reg[i] = 'West'\n",
    "    elif x in Central:\n",
    "        reg[i] = 'Central'\n",
    "    elif x in South:\n",
    "        reg[i] = 'South'\n",
    "    else:\n",
    "        reg[i] = 'NULL'\n",
    "print(reg)\n",
    "africa['Region'] = reg\n",
    "africa = africa.sort_values('Region').copy()"
   ]
  },
  {
   "cell_type": "code",
   "execution_count": 24,
   "metadata": {},
   "outputs": [
    {
     "data": {
      "text/html": [
       "<div>\n",
       "<style scoped>\n",
       "    .dataframe tbody tr th:only-of-type {\n",
       "        vertical-align: middle;\n",
       "    }\n",
       "\n",
       "    .dataframe tbody tr th {\n",
       "        vertical-align: top;\n",
       "    }\n",
       "\n",
       "    .dataframe thead th {\n",
       "        text-align: right;\n",
       "    }\n",
       "</style>\n",
       "<table border=\"1\" class=\"dataframe\">\n",
       "  <thead>\n",
       "    <tr style=\"text-align: right;\">\n",
       "      <th></th>\n",
       "      <th>pop_est</th>\n",
       "      <th>continent</th>\n",
       "      <th>name</th>\n",
       "      <th>iso_a3</th>\n",
       "      <th>gdp_md_est</th>\n",
       "      <th>geometry</th>\n",
       "      <th>Region</th>\n",
       "    </tr>\n",
       "  </thead>\n",
       "  <tbody>\n",
       "    <tr>\n",
       "      <th>71</th>\n",
       "      <td>19196246</td>\n",
       "      <td>Africa</td>\n",
       "      <td>Malawi</td>\n",
       "      <td>MWI</td>\n",
       "      <td>21200.0</td>\n",
       "      <td>POLYGON ((32.75937544122132 -9.23059905358906,...</td>\n",
       "      <td>East</td>\n",
       "    </tr>\n",
       "    <tr>\n",
       "      <th>69</th>\n",
       "      <td>778358</td>\n",
       "      <td>Africa</td>\n",
       "      <td>Eq. Guinea</td>\n",
       "      <td>GNQ</td>\n",
       "      <td>31770.0</td>\n",
       "      <td>POLYGON ((9.649158155972628 2.283866075037736,...</td>\n",
       "      <td>Central</td>\n",
       "    </tr>\n",
       "    <tr>\n",
       "      <th>49</th>\n",
       "      <td>2214858</td>\n",
       "      <td>Africa</td>\n",
       "      <td>Botswana</td>\n",
       "      <td>BWA</td>\n",
       "      <td>35900.0</td>\n",
       "      <td>POLYGON ((29.43218834810904 -22.09131275806759...</td>\n",
       "      <td>South</td>\n",
       "    </tr>\n",
       "    <tr>\n",
       "      <th>26</th>\n",
       "      <td>1958042</td>\n",
       "      <td>Africa</td>\n",
       "      <td>Lesotho</td>\n",
       "      <td>LSO</td>\n",
       "      <td>6019.0</td>\n",
       "      <td>POLYGON ((28.97826256685724 -28.95559661226171...</td>\n",
       "      <td>South</td>\n",
       "    </tr>\n",
       "    <tr>\n",
       "      <th>25</th>\n",
       "      <td>54841552</td>\n",
       "      <td>Africa</td>\n",
       "      <td>South Africa</td>\n",
       "      <td>ZAF</td>\n",
       "      <td>739100.0</td>\n",
       "      <td>POLYGON ((16.34497684089524 -28.5767050106977,...</td>\n",
       "      <td>South</td>\n",
       "    </tr>\n",
       "  </tbody>\n",
       "</table>\n",
       "</div>"
      ],
      "text/plain": [
       "     pop_est continent          name iso_a3  gdp_md_est  \\\n",
       "71  19196246    Africa        Malawi    MWI     21200.0   \n",
       "69    778358    Africa    Eq. Guinea    GNQ     31770.0   \n",
       "49   2214858    Africa      Botswana    BWA     35900.0   \n",
       "26   1958042    Africa       Lesotho    LSO      6019.0   \n",
       "25  54841552    Africa  South Africa    ZAF    739100.0   \n",
       "\n",
       "                                             geometry   Region  \n",
       "71  POLYGON ((32.75937544122132 -9.23059905358906,...     East  \n",
       "69  POLYGON ((9.649158155972628 2.283866075037736,...  Central  \n",
       "49  POLYGON ((29.43218834810904 -22.09131275806759...    South  \n",
       "26  POLYGON ((28.97826256685724 -28.95559661226171...    South  \n",
       "25  POLYGON ((16.34497684089524 -28.5767050106977,...    South  "
      ]
     },
     "execution_count": 24,
     "metadata": {},
     "output_type": "execute_result"
    }
   ],
   "source": [
    "africa.sample(5)"
   ]
  },
  {
   "cell_type": "code",
   "execution_count": 25,
   "metadata": {
    "collapsed": true
   },
   "outputs": [],
   "source": [
    "#lungsomme = lungsomme/lungsomme.max().astype(np.float64)\n"
   ]
  },
  {
   "cell_type": "code",
   "execution_count": 26,
   "metadata": {},
   "outputs": [
    {
     "data": {
      "text/html": [
       "<div>\n",
       "<style scoped>\n",
       "    .dataframe tbody tr th:only-of-type {\n",
       "        vertical-align: middle;\n",
       "    }\n",
       "\n",
       "    .dataframe tbody tr th {\n",
       "        vertical-align: top;\n",
       "    }\n",
       "\n",
       "    .dataframe thead th {\n",
       "        text-align: right;\n",
       "    }\n",
       "</style>\n",
       "<table border=\"1\" class=\"dataframe\">\n",
       "  <thead>\n",
       "    <tr style=\"text-align: right;\">\n",
       "      <th></th>\n",
       "      <th>2002</th>\n",
       "      <th>2008</th>\n",
       "      <th>2012</th>\n",
       "      <th>2018</th>\n",
       "    </tr>\n",
       "  </thead>\n",
       "  <tbody>\n",
       "    <tr>\n",
       "      <th>North</th>\n",
       "      <td>1.75</td>\n",
       "      <td>1.80</td>\n",
       "      <td>1.95</td>\n",
       "      <td>1.55</td>\n",
       "    </tr>\n",
       "    <tr>\n",
       "      <th>West</th>\n",
       "      <td>0.95</td>\n",
       "      <td>1.20</td>\n",
       "      <td>0.60</td>\n",
       "      <td>1.20</td>\n",
       "    </tr>\n",
       "    <tr>\n",
       "      <th>Central</th>\n",
       "      <td>0.85</td>\n",
       "      <td>1.15</td>\n",
       "      <td>3.10</td>\n",
       "      <td>1.90</td>\n",
       "    </tr>\n",
       "    <tr>\n",
       "      <th>East</th>\n",
       "      <td>13.55</td>\n",
       "      <td>10.65</td>\n",
       "      <td>9.85</td>\n",
       "      <td>8.40</td>\n",
       "    </tr>\n",
       "    <tr>\n",
       "      <th>South</th>\n",
       "      <td>13.35</td>\n",
       "      <td>17.00</td>\n",
       "      <td>10.20</td>\n",
       "      <td>8.05</td>\n",
       "    </tr>\n",
       "  </tbody>\n",
       "</table>\n",
       "</div>"
      ],
      "text/plain": [
       "          2002   2008   2012  2018\n",
       "North     1.75   1.80   1.95  1.55\n",
       "West      0.95   1.20   0.60  1.20\n",
       "Central   0.85   1.15   3.10  1.90\n",
       "East     13.55  10.65   9.85  8.40\n",
       "South    13.35  17.00  10.20  8.05"
      ]
     },
     "execution_count": 26,
     "metadata": {},
     "output_type": "execute_result"
    }
   ],
   "source": [
    "cancer = eosophagussomme\n",
    "cancer"
   ]
  },
  {
   "cell_type": "code",
   "execution_count": 27,
   "metadata": {},
   "outputs": [
    {
     "name": "stdout",
     "output_type": "stream",
     "text": [
      "Central\n",
      "13.55\n",
      "Central\n",
      "10.65\n",
      "Central\n",
      "9.85\n",
      "Central\n",
      "8.399999999999999\n"
     ]
    }
   ],
   "source": [
    "LC = cancer['2002']\n",
    "reg = [0 for i in range(51)]\n",
    "for i in range(51):\n",
    "    x = africa['Region'].iloc[i]\n",
    "    #print(x,)\n",
    "    if x == 'North':\n",
    "        reg[i] = LC.iloc[0]\n",
    "        #print(reg)\n",
    "    elif x == 'East':\n",
    "        reg[i] = LC.iloc[1]\n",
    "    elif x == 'West':\n",
    "        reg[i] = LC.iloc[2]\n",
    "    elif x == 'Central':\n",
    "        reg[i] = LC.iloc[3]\n",
    "    elif x == 'South':\n",
    "        reg[i] = LC.iloc[4]\n",
    "print(africa['Region'].iloc[0]), print(reg[0])\n",
    "africa['Eso2002'] = reg\n",
    "\n",
    "LC = cancer['2008']\n",
    "reg = [0 for i in range(51)]\n",
    "for i in range(51):\n",
    "    x = africa['Region'].iloc[i]\n",
    "    #print(x,)\n",
    "    if x == 'North':\n",
    "        reg[i] = LC.iloc[0]\n",
    "        #print(reg)\n",
    "    elif x == 'East':\n",
    "        reg[i] = LC.iloc[1]\n",
    "    elif x == 'West':\n",
    "        reg[i] = LC.iloc[2]\n",
    "    elif x == 'Central':\n",
    "        reg[i] = LC.iloc[3]\n",
    "    elif x == 'South':\n",
    "        reg[i] = LC.iloc[4]\n",
    "print(africa['Region'].iloc[0]), print(reg[0])\n",
    "africa['Eso2008'] = reg\n",
    "\n",
    "LC = cancer['2012']\n",
    "reg = [0 for i in range(51)]\n",
    "for i in range(51):\n",
    "    x = africa['Region'].iloc[i]\n",
    "    #print(x,)\n",
    "    if x == 'North':\n",
    "        reg[i] = LC.iloc[0]\n",
    "        #print(reg)\n",
    "    elif x == 'East':\n",
    "        reg[i] = LC.iloc[1]\n",
    "    elif x == 'West':\n",
    "        reg[i] = LC.iloc[2]\n",
    "    elif x == 'Central':\n",
    "        reg[i] = LC.iloc[3]\n",
    "    elif x == 'South':\n",
    "        reg[i] = LC.iloc[4]\n",
    "print(africa['Region'].iloc[0]), print(reg[0])\n",
    "africa['Eso2012'] = reg\n",
    "\n",
    "LC = cancer['2018']\n",
    "reg = [0 for i in range(51)]\n",
    "for i in range(51):\n",
    "    x = africa['Region'].iloc[i]\n",
    "    #print(x,)\n",
    "    if x == 'North':\n",
    "        reg[i] = LC.iloc[0]\n",
    "        #print(reg)\n",
    "    elif x == 'East':\n",
    "        reg[i] = LC.iloc[1]\n",
    "    elif x == 'West':\n",
    "        reg[i] = LC.iloc[2]\n",
    "    elif x == 'Central':\n",
    "        reg[i] = LC.iloc[3]\n",
    "    elif x == 'South':\n",
    "        reg[i] = LC.iloc[4]\n",
    "print(africa['Region'].iloc[0]), print(reg[0])\n",
    "africa['Eso2018'] = reg\n"
   ]
  },
  {
   "cell_type": "code",
   "execution_count": 28,
   "metadata": {},
   "outputs": [
    {
     "data": {
      "text/html": [
       "<div>\n",
       "<style scoped>\n",
       "    .dataframe tbody tr th:only-of-type {\n",
       "        vertical-align: middle;\n",
       "    }\n",
       "\n",
       "    .dataframe tbody tr th {\n",
       "        vertical-align: top;\n",
       "    }\n",
       "\n",
       "    .dataframe thead th {\n",
       "        text-align: right;\n",
       "    }\n",
       "</style>\n",
       "<table border=\"1\" class=\"dataframe\">\n",
       "  <thead>\n",
       "    <tr style=\"text-align: right;\">\n",
       "      <th></th>\n",
       "      <th>pop_est</th>\n",
       "      <th>continent</th>\n",
       "      <th>name</th>\n",
       "      <th>iso_a3</th>\n",
       "      <th>gdp_md_est</th>\n",
       "      <th>geometry</th>\n",
       "      <th>Region</th>\n",
       "      <th>Eso2002</th>\n",
       "      <th>Eso2008</th>\n",
       "      <th>Eso2012</th>\n",
       "      <th>Eso2018</th>\n",
       "    </tr>\n",
       "  </thead>\n",
       "  <tbody>\n",
       "    <tr>\n",
       "      <th>67</th>\n",
       "      <td>4954674</td>\n",
       "      <td>Africa</td>\n",
       "      <td>Congo</td>\n",
       "      <td>COG</td>\n",
       "      <td>30270.0</td>\n",
       "      <td>POLYGON ((18.45306521980993 3.504385891123349,...</td>\n",
       "      <td>Central</td>\n",
       "      <td>13.55</td>\n",
       "      <td>10.65</td>\n",
       "      <td>9.85</td>\n",
       "      <td>8.40</td>\n",
       "    </tr>\n",
       "    <tr>\n",
       "      <th>168</th>\n",
       "      <td>39570125</td>\n",
       "      <td>Africa</td>\n",
       "      <td>Uganda</td>\n",
       "      <td>UGA</td>\n",
       "      <td>84930.0</td>\n",
       "      <td>POLYGON ((33.90371119710453 -0.950000000000000...</td>\n",
       "      <td>East</td>\n",
       "      <td>0.95</td>\n",
       "      <td>1.20</td>\n",
       "      <td>0.60</td>\n",
       "      <td>1.20</td>\n",
       "    </tr>\n",
       "    <tr>\n",
       "      <th>25</th>\n",
       "      <td>54841552</td>\n",
       "      <td>Africa</td>\n",
       "      <td>South Africa</td>\n",
       "      <td>ZAF</td>\n",
       "      <td>739100.0</td>\n",
       "      <td>POLYGON ((16.34497684089524 -28.5767050106977,...</td>\n",
       "      <td>South</td>\n",
       "      <td>13.35</td>\n",
       "      <td>17.00</td>\n",
       "      <td>10.20</td>\n",
       "      <td>8.05</td>\n",
       "    </tr>\n",
       "    <tr>\n",
       "      <th>63</th>\n",
       "      <td>4689021</td>\n",
       "      <td>Africa</td>\n",
       "      <td>Liberia</td>\n",
       "      <td>LBR</td>\n",
       "      <td>3881.0</td>\n",
       "      <td>POLYGON ((-8.439298468448698 7.686042792181738...</td>\n",
       "      <td>West</td>\n",
       "      <td>0.85</td>\n",
       "      <td>1.15</td>\n",
       "      <td>3.10</td>\n",
       "      <td>1.90</td>\n",
       "    </tr>\n",
       "    <tr>\n",
       "      <th>51</th>\n",
       "      <td>14668522</td>\n",
       "      <td>Africa</td>\n",
       "      <td>Senegal</td>\n",
       "      <td>SEN</td>\n",
       "      <td>39720.0</td>\n",
       "      <td>POLYGON ((-16.71372880702347 13.59495860437985...</td>\n",
       "      <td>West</td>\n",
       "      <td>0.85</td>\n",
       "      <td>1.15</td>\n",
       "      <td>3.10</td>\n",
       "      <td>1.90</td>\n",
       "    </tr>\n",
       "  </tbody>\n",
       "</table>\n",
       "</div>"
      ],
      "text/plain": [
       "      pop_est continent          name iso_a3  gdp_md_est  \\\n",
       "67    4954674    Africa         Congo    COG     30270.0   \n",
       "168  39570125    Africa        Uganda    UGA     84930.0   \n",
       "25   54841552    Africa  South Africa    ZAF    739100.0   \n",
       "63    4689021    Africa       Liberia    LBR      3881.0   \n",
       "51   14668522    Africa       Senegal    SEN     39720.0   \n",
       "\n",
       "                                              geometry   Region  Eso2002  \\\n",
       "67   POLYGON ((18.45306521980993 3.504385891123349,...  Central    13.55   \n",
       "168  POLYGON ((33.90371119710453 -0.950000000000000...     East     0.95   \n",
       "25   POLYGON ((16.34497684089524 -28.5767050106977,...    South    13.35   \n",
       "63   POLYGON ((-8.439298468448698 7.686042792181738...     West     0.85   \n",
       "51   POLYGON ((-16.71372880702347 13.59495860437985...     West     0.85   \n",
       "\n",
       "     Eso2008  Eso2012  Eso2018  \n",
       "67     10.65     9.85     8.40  \n",
       "168     1.20     0.60     1.20  \n",
       "25     17.00    10.20     8.05  \n",
       "63      1.15     3.10     1.90  \n",
       "51      1.15     3.10     1.90  "
      ]
     },
     "execution_count": 28,
     "metadata": {},
     "output_type": "execute_result"
    }
   ],
   "source": [
    "#africa.geometry.apply(touches)\n",
    "africa.sample(5)"
   ]
  },
  {
   "cell_type": "code",
   "execution_count": 29,
   "metadata": {},
   "outputs": [
    {
     "data": {
      "image/png": "[encoded data removed]",
      "text/plain": [
       "<Figure size 432x288 with 1 Axes>"
      ]
     },
     "metadata": {},
     "output_type": "display_data"
    },
    {
     "data": {
      "image/png": "[encoded data removed]",
      "text/plain": [
       "<Figure size 432x288 with 1 Axes>"
      ]
     },
     "metadata": {},
     "output_type": "display_data"
    }
   ],
   "source": [
    "#https://geopandas.readthedocs.io/en/latest/gallery/plotting_basemap_background.html\n",
    "from matplotlib import cm\n",
    "cmap = cm.get_cmap('tab20c')\n",
    "fig, ax = plt.subplots()\n",
    "africa.plot(column='Eso2002', cmap=cmap, linewidth=0.3, ax=ax, edgecolor='.3')\n",
    "ax.axis('off')\n",
    "plt.show()"
   ]
  },
  {
   "cell_type": "code",
   "execution_count": 30,
   "metadata": {},
   "outputs": [
    {
     "data": {
      "text/html": [
       "<div>\n",
       "<style scoped>\n",
       "    .dataframe tbody tr th:only-of-type {\n",
       "        vertical-align: middle;\n",
       "    }\n",
       "\n",
       "    .dataframe tbody tr th {\n",
       "        vertical-align: top;\n",
       "    }\n",
       "\n",
       "    .dataframe thead th {\n",
       "        text-align: right;\n",
       "    }\n",
       "</style>\n",
       "<table border=\"1\" class=\"dataframe\">\n",
       "  <thead>\n",
       "    <tr style=\"text-align: right;\">\n",
       "      <th></th>\n",
       "      <th>pop_est</th>\n",
       "      <th>continent</th>\n",
       "      <th>name</th>\n",
       "      <th>iso_a3</th>\n",
       "      <th>gdp_md_est</th>\n",
       "      <th>geometry</th>\n",
       "      <th>Region</th>\n",
       "      <th>Eso2002</th>\n",
       "      <th>Eso2008</th>\n",
       "      <th>Eso2012</th>\n",
       "      <th>Eso2018</th>\n",
       "    </tr>\n",
       "  </thead>\n",
       "  <tbody>\n",
       "    <tr>\n",
       "      <th>26</th>\n",
       "      <td>1958042</td>\n",
       "      <td>Africa</td>\n",
       "      <td>Lesotho</td>\n",
       "      <td>LSO</td>\n",
       "      <td>6019.0</td>\n",
       "      <td>POLYGON ((28.97826256685724 -28.95559661226171...</td>\n",
       "      <td>South</td>\n",
       "      <td>13.35</td>\n",
       "      <td>17.0</td>\n",
       "      <td>10.2</td>\n",
       "      <td>8.05</td>\n",
       "    </tr>\n",
       "  </tbody>\n",
       "</table>\n",
       "</div>"
      ],
      "text/plain": [
       "    pop_est continent     name iso_a3  gdp_md_est  \\\n",
       "26  1958042    Africa  Lesotho    LSO      6019.0   \n",
       "\n",
       "                                             geometry Region  Eso2002  \\\n",
       "26  POLYGON ((28.97826256685724 -28.95559661226171...  South    13.35   \n",
       "\n",
       "    Eso2008  Eso2012  Eso2018  \n",
       "26     17.0     10.2     8.05  "
      ]
     },
     "execution_count": 30,
     "metadata": {},
     "output_type": "execute_result"
    }
   ],
   "source": [
    "africa.sample()"
   ]
  },
  {
   "cell_type": "code",
   "execution_count": 32,
   "metadata": {},
   "outputs": [
    {
     "data": {
      "image/png": "[encoded data removed]",
      "text/plain": [
       "<Figure size 432x288 with 2 Axes>"
      ]
     },
     "metadata": {},
     "output_type": "display_data"
    }
   ],
   "source": [
    "fig, ax = plt.subplots(1, 1)\n",
    "#africa.plot(column='Lung2002');\n",
    "africa.plot(column='Eso2018', cmap=cmap,\n",
    "            ax=ax, legend=True, \n",
    "            legend_kwds={'label': \"Incidence for Esophageal cancer\", 'orientation': \"horizontal\"})\n",
    "plt.show()"
   ]
  },
  {
   "cell_type": "markdown",
   "metadata": {},
   "source": [
    "ValueError: Colormap Red is not recognized. Possible values are: Accent, Accent_r, Blues, Blues_r, BrBG, BrBG_r, BuGn, BuGn_r, BuPu, BuPu_r, CMRmap, CMRmap_r, Dark2, Dark2_r, GnBu, GnBu_r, Greens, Greens_r, Greys, Greys_r, OrRd, OrRd_r, Oranges, Oranges_r, PRGn, PRGn_r, Paired, Paired_r, Pastel1, Pastel1_r, Pastel2, Pastel2_r, PiYG, PiYG_r, PuBu, PuBuGn, PuBuGn_r, PuBu_r, PuOr, PuOr_r, PuRd, PuRd_r, Purples, Purples_r, RdBu, RdBu_r, RdGy, RdGy_r, RdPu, RdPu_r, RdYlBu, RdYlBu_r, RdYlGn, RdYlGn_r, Reds, Reds_r, Set1, Set1_r, Set2, Set2_r, Set3, Set3_r, Spectral, Spectral_r, Wistia, Wistia_r, YlGn, YlGnBu, YlGnBu_r, YlGn_r, YlOrBr, YlOrBr_r, YlOrRd, YlOrRd_r, afmhot, afmhot_r, autumn, autumn_r, binary, binary_r, bone, bone_r, brg, brg_r, bwr, bwr_r, cividis, cividis_r, cool, cool_r, coolwarm, coolwarm_r, copper, copper_r, cubehelix, cubehelix_r, flag, flag_r, gist_earth, gist_earth_r, gist_gray, gist_gray_r, gist_heat, gist_heat_r, gist_ncar, gist_ncar_r, gist_rainbow, gist_rainbow_r, gist_stern, gist_stern_r, gist_yarg, gist_yarg_r, gnuplot, gnuplot2, gnuplot2_r, gnuplot_r, gray, gray_r, hot, hot_r, hsv, hsv_r, icefire, icefire_r, inferno, inferno_r, jet, jet_r, magma, magma_r, mako, mako_r, nipy_spectral, nipy_spectral_r, ocean, ocean_r, pink, pink_r, plasma, plasma_r, prism, prism_r, rainbow, rainbow_r, rocket, rocket_r, seismic, seismic_r, spring, spring_r, summer, summer_r, tab10, tab10_r, tab20, tab20_r, tab20b, tab20b_r, tab20c, tab20c_r, terrain, terrain_r, twilight, twilight_r, twilight_shifted, twilight_shifted_r, viridis, viridis_r, vlag, vlag_r, winter, winter_r"
   ]
  },
  {
   "cell_type": "code",
   "execution_count": 90,
   "metadata": {
    "collapsed": true
   },
   "outputs": [],
   "source": [
    "#!pip install mapclassify\n",
    "import mapclassify"
   ]
  },
  {
   "cell_type": "code",
   "execution_count": 33,
   "metadata": {
    "collapsed": true
   },
   "outputs": [],
   "source": [
    "import matplotlib.pyplot as plt\n",
    "import geopandas\n",
    "cmap = cm.get_cmap('bone')"
   ]
  },
  {
   "cell_type": "code",
   "execution_count": 34,
   "metadata": {},
   "outputs": [
    {
     "data": {
      "image/png": "[encoded data removed]",
      "text/plain": [
       "<Figure size 720x360 with 8 Axes>"
      ]
     },
     "metadata": {},
     "output_type": "display_data"
    }
   ],
   "source": [
    "#cmap = cm.get_cmap('Greens')\n",
    "#cmap = cm.get_cmap('tab20c')\n",
    "#cmap = cm.get_cmap('Set2')\n",
    "#from cartopy import crs as ccrs\n",
    "# Generate a figure with two axes, one for CartoPy, one for GeoPandas\n",
    "fig, axs = plt.subplots(1,4,figsize=(10, 5), sharex=True, sharey=True)\n",
    "fig.suptitle('Incidence rate of Esophageal cancer per 100 000')\n",
    "# Make the CartoPy plot\n",
    "line1 = africa.plot(column=\"Eso2002\", cmap=cmap, legend=True, linewidth=0.4, ax=axs[0], edgecolor='0.6',\n",
    "            legend_kwds={'label': \"2002\", 'orientation': \"horizontal\"})\n",
    "\n",
    "line2 = africa.plot(column=\"Eso2008\", cmap=cmap, legend=True, linewidth=0.4, ax=axs[1], edgecolor='0.6',\n",
    "            legend_kwds={'label': \"2008\", 'orientation': \"horizontal\"})\n",
    "\n",
    "line3 = africa.plot(column=\"Eso2012\", cmap=cmap, legend=True, linewidth=0.4, ax=axs[2], edgecolor='0.6',\n",
    "            legend_kwds={'label': \"2012\", 'orientation': \"horizontal\"})\n",
    "\n",
    "line4 = africa.plot(column=\"Eso2018\", cmap=cmap, legend=True, linewidth=0.4, ax=axs[3], edgecolor='0.6',\n",
    "            legend_kwds={'label': \"2018\", 'orientation': \"horizontal\"})\n",
    "#plt.colorbar(label='log$_{10}$(population)')\n",
    "axs[0].axis('off')\n",
    "axs[1].axis('off')\n",
    "axs[2].axis('off')\n",
    "axs[3].axis('off')\n",
    "plt.show()"
   ]
  },
  {
   "cell_type": "code",
   "execution_count": 35,
   "metadata": {},
   "outputs": [
    {
     "data": {
      "text/html": [
       "<div>\n",
       "<style scoped>\n",
       "    .dataframe tbody tr th:only-of-type {\n",
       "        vertical-align: middle;\n",
       "    }\n",
       "\n",
       "    .dataframe tbody tr th {\n",
       "        vertical-align: top;\n",
       "    }\n",
       "\n",
       "    .dataframe thead th {\n",
       "        text-align: right;\n",
       "    }\n",
       "</style>\n",
       "<table border=\"1\" class=\"dataframe\">\n",
       "  <thead>\n",
       "    <tr style=\"text-align: right;\">\n",
       "      <th></th>\n",
       "      <th>2002</th>\n",
       "      <th>2008</th>\n",
       "      <th>2012</th>\n",
       "      <th>2018</th>\n",
       "    </tr>\n",
       "  </thead>\n",
       "  <tbody>\n",
       "    <tr>\n",
       "      <th>North</th>\n",
       "      <td>1.75</td>\n",
       "      <td>1.80</td>\n",
       "      <td>1.95</td>\n",
       "      <td>1.55</td>\n",
       "    </tr>\n",
       "    <tr>\n",
       "      <th>West</th>\n",
       "      <td>0.95</td>\n",
       "      <td>1.20</td>\n",
       "      <td>0.60</td>\n",
       "      <td>1.20</td>\n",
       "    </tr>\n",
       "    <tr>\n",
       "      <th>Central</th>\n",
       "      <td>0.85</td>\n",
       "      <td>1.15</td>\n",
       "      <td>3.10</td>\n",
       "      <td>1.90</td>\n",
       "    </tr>\n",
       "    <tr>\n",
       "      <th>East</th>\n",
       "      <td>13.55</td>\n",
       "      <td>10.65</td>\n",
       "      <td>9.85</td>\n",
       "      <td>8.40</td>\n",
       "    </tr>\n",
       "    <tr>\n",
       "      <th>South</th>\n",
       "      <td>13.35</td>\n",
       "      <td>17.00</td>\n",
       "      <td>10.20</td>\n",
       "      <td>8.05</td>\n",
       "    </tr>\n",
       "  </tbody>\n",
       "</table>\n",
       "</div>"
      ],
      "text/plain": [
       "          2002   2008   2012  2018\n",
       "North     1.75   1.80   1.95  1.55\n",
       "West      0.95   1.20   0.60  1.20\n",
       "Central   0.85   1.15   3.10  1.90\n",
       "East     13.55  10.65   9.85  8.40\n",
       "South    13.35  17.00  10.20  8.05"
      ]
     },
     "execution_count": 35,
     "metadata": {},
     "output_type": "execute_result"
    }
   ],
   "source": [
    "cancer"
   ]
  },
  {
   "cell_type": "code",
   "execution_count": 36,
   "metadata": {},
   "outputs": [
    {
     "data": {
      "image/png": "[encoded data removed]",
      "text/plain": [
       "<Figure size 432x288 with 1 Axes>"
      ]
     },
     "metadata": {},
     "output_type": "display_data"
    },
    {
     "data": {
      "image/png": "[encoded data removed]",
      "text/plain": [
       "<Figure size 432x288 with 1 Axes>"
      ]
     },
     "metadata": {},
     "output_type": "display_data"
    }
   ],
   "source": [
    "ax = cancer.plot.bar(rot=0, cmap=cmap)\n",
    "plt.suptitle('Esophageal cancer')\n",
    "plt.ylabel('Incidence per 100 000 persons')\n",
    "plt.show()\n",
    "cancer.transpose().plot.area(cmap=cmap)\n",
    "plt.suptitle('Esophageal cancer')\n",
    "plt.ylabel('Incidence per 100 000 persons')\n",
    "plt.xlabel('Years from 2002 to 2018')\n",
    "plt.show()"
   ]
  },
  {
   "cell_type": "code",
   "execution_count": 37,
   "metadata": {},
   "outputs": [
    {
     "data": {
      "image/png": "[encoded data removed]",
      "text/plain": [
       "<Figure size 432x288 with 1 Axes>"
      ]
     },
     "metadata": {},
     "output_type": "display_data"
    }
   ],
   "source": [
    "cancer.plot(kind='bar', stacked=True, cmap=cmap)\n",
    "plt.suptitle('Esophageal cancer')\n",
    "plt.ylabel('Incidence per 100 000 persons')\n",
    "plt.show()"
   ]
  },
  {
   "cell_type": "code",
   "execution_count": 38,
   "metadata": {},
   "outputs": [
    {
     "data": {
      "image/png": "[encoded data removed]",
      "text/plain": [
       "<Figure size 432x288 with 1 Axes>"
      ]
     },
     "metadata": {},
     "output_type": "display_data"
    }
   ],
   "source": [
    "#cmap = cm.get_cmap('Set2')\n",
    "esm.transpose().plot.bar(rot=0, cmap=cmap)\n",
    "plt.suptitle('Esophageal cancer for men')\n",
    "plt.ylabel('Incidence per 100 000 persons')\n",
    "plt.xlabel('Regions of Africa')\n",
    "plt.show()"
   ]
  },
  {
   "cell_type": "code",
   "execution_count": 39,
   "metadata": {},
   "outputs": [
    {
     "data": {
      "image/png": "[encoded data removed]",
      "text/plain": [
       "<Figure size 432x288 with 1 Axes>"
      ]
     },
     "metadata": {},
     "output_type": "display_data"
    }
   ],
   "source": [
    "esw.transpose().plot.bar(rot=0, cmap=cmap)\n",
    "plt.suptitle('Esophageal cancer for women')\n",
    "plt.ylabel('Incidence per 100 000 persons')\n",
    "plt.xlabel('Regions of Africa')\n",
    "plt.show()"
   ]
  },
  {
   "cell_type": "code",
   "execution_count": null,
   "metadata": {
    "collapsed": true
   },
   "outputs": [],
   "source": []
  },
  {
   "cell_type": "code",
   "execution_count": null,
   "metadata": {
    "collapsed": true
   },
   "outputs": [],
   "source": []
  },
  {
   "cell_type": "code",
   "execution_count": null,
   "metadata": {
    "collapsed": true
   },
   "outputs": [],
   "source": []
  },
  {
   "cell_type": "code",
   "execution_count": null,
   "metadata": {
    "collapsed": true
   },
   "outputs": [],
   "source": []
  },
  {
   "cell_type": "code",
   "execution_count": null,
   "metadata": {
    "collapsed": true
   },
   "outputs": [],
   "source": []
  },
  {
   "cell_type": "code",
   "execution_count": null,
   "metadata": {
    "collapsed": true
   },
   "outputs": [],
   "source": []
  }
 ],
 "metadata": {
  "kernelspec": {
   "display_name": "Python 3",
   "language": "python",
   "name": "python3"
  },
  "language_info": {
   "codemirror_mode": {
    "name": "ipython",
    "version": 3
   },
   "file_extension": ".py",
   "mimetype": "text/x-python",
   "name": "python",
   "nbconvert_exporter": "python",
   "pygments_lexer": "ipython3",
   "version": "3.6.4"
  }
 },
 "nbformat": 4,
 "nbformat_minor": 2
}
