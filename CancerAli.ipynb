{
 "cells": [
  {
   "cell_type": "markdown",
   "metadata": {},
   "source": [
    "Ce document a été produit dans le but de produire des données sur l'incidence du cancer en Afrique. Travail réalisé par Yosr Hamdi, Ali Afzal Zatchi, Ines Abdeljaoued, Alia Ben Kahla..."
   ]
  },
  {
   "cell_type": "code",
   "execution_count": 1,
   "metadata": {
    "collapsed": true
   },
   "outputs": [],
   "source": [
    "import os\n",
    "import time\n",
    "from datetime import date, timedelta\n",
    "\n",
    "import pandas as pd\n",
    "import numpy as np\n",
    "\n",
    "import requests \n",
    "from bs4 import BeautifulSoup\n",
    "\n",
    "import io\n",
    "import re\n",
    "import itertools\n",
    "import zipfile"
   ]
  },
  {
   "cell_type": "code",
   "execution_count": 2,
   "metadata": {},
   "outputs": [],
   "source": [
    "pays = pd.read_excel(\"PaysdAfrique.xlsx\")"
   ]
  },
  {
   "cell_type": "code",
   "execution_count": 3,
   "metadata": {},
   "outputs": [
    {
     "data": {
      "text/html": [
       "<div>\n",
       "<style scoped>\n",
       "    .dataframe tbody tr th:only-of-type {\n",
       "        vertical-align: middle;\n",
       "    }\n",
       "\n",
       "    .dataframe tbody tr th {\n",
       "        vertical-align: top;\n",
       "    }\n",
       "\n",
       "    .dataframe thead th {\n",
       "        text-align: right;\n",
       "    }\n",
       "</style>\n",
       "<table border=\"1\" class=\"dataframe\">\n",
       "  <thead>\n",
       "    <tr style=\"text-align: right;\">\n",
       "      <th></th>\n",
       "      <th>Northern Africa (210 002 000)</th>\n",
       "      <th>West Africa (331 255 000)</th>\n",
       "      <th>Central Africa (135 750 000)</th>\n",
       "      <th>East Africa (373 202 000)</th>\n",
       "      <th>Southern Africa (60 425 000)</th>\n",
       "    </tr>\n",
       "  </thead>\n",
       "  <tbody>\n",
       "    <tr>\n",
       "      <th>0</th>\n",
       "      <td>Maroc (35 280 451)</td>\n",
       "      <td>Mauritanie (4 166 000)</td>\n",
       "      <td>Tchad (14 485 740)</td>\n",
       "      <td>Erythree (5 351 000)</td>\n",
       "      <td>Namibie (2 513 000)</td>\n",
       "    </tr>\n",
       "    <tr>\n",
       "      <th>1</th>\n",
       "      <td>Algerie (40 610 154)</td>\n",
       "      <td>Senegal (15 580 485)</td>\n",
       "      <td>Centrafrique (4 998 000)</td>\n",
       "      <td>Ethiopie (101 850 000)</td>\n",
       "      <td>Botswana (2 3003 000)</td>\n",
       "    </tr>\n",
       "    <tr>\n",
       "      <th>2</th>\n",
       "      <td>Tunise (11 411 212)</td>\n",
       "      <td>Gambie (2 054 000)</td>\n",
       "      <td>Cameroun (23 920 400)</td>\n",
       "      <td>Ouganda (41 175 440)</td>\n",
       "      <td>Afrique du sud (54 975 900)</td>\n",
       "    </tr>\n",
       "    <tr>\n",
       "      <th>3</th>\n",
       "      <td>Libye(6 330 000)</td>\n",
       "      <td>Guinee Bissau (1 888 000)</td>\n",
       "      <td>Guinee Equatoriale (869 000)</td>\n",
       "      <td>Kenya (47 450 250)</td>\n",
       "      <td>Swaziland (1 220 000)</td>\n",
       "    </tr>\n",
       "    <tr>\n",
       "      <th>4</th>\n",
       "      <td>Egypte (93 380 570)</td>\n",
       "      <td>Guinee (12 940 000)</td>\n",
       "      <td>Gabon (1 763 000)</td>\n",
       "      <td>Djibouti (899 000)</td>\n",
       "      <td>Lesotho (2 160 000)</td>\n",
       "    </tr>\n",
       "  </tbody>\n",
       "</table>\n",
       "</div>"
      ],
      "text/plain": [
       "  Northern Africa (210 002 000)  West Africa (331 255 000)  \\\n",
       "0            Maroc (35 280 451)     Mauritanie (4 166 000)   \n",
       "1          Algerie (40 610 154)       Senegal (15 580 485)   \n",
       "2           Tunise (11 411 212)         Gambie (2 054 000)   \n",
       "3              Libye(6 330 000)  Guinee Bissau (1 888 000)   \n",
       "4           Egypte (93 380 570)        Guinee (12 940 000)   \n",
       "\n",
       "   Central Africa (135 750 000) East Africa (373 202 000)  \\\n",
       "0            Tchad (14 485 740)      Erythree (5 351 000)   \n",
       "1      Centrafrique (4 998 000)    Ethiopie (101 850 000)   \n",
       "2         Cameroun (23 920 400)      Ouganda (41 175 440)   \n",
       "3  Guinee Equatoriale (869 000)        Kenya (47 450 250)   \n",
       "4             Gabon (1 763 000)        Djibouti (899 000)   \n",
       "\n",
       "  Southern Africa (60 425 000)  \n",
       "0          Namibie (2 513 000)  \n",
       "1        Botswana (2 3003 000)  \n",
       "2  Afrique du sud (54 975 900)  \n",
       "3        Swaziland (1 220 000)  \n",
       "4          Lesotho (2 160 000)  "
      ]
     },
     "execution_count": 3,
     "metadata": {},
     "output_type": "execute_result"
    }
   ],
   "source": [
    "pays.head()"
   ]
  },
  {
   "cell_type": "code",
   "execution_count": 4,
   "metadata": {},
   "outputs": [],
   "source": [
    "evolution = pd.read_excel(\"regionsAfrique.xlsx\")"
   ]
  },
  {
   "cell_type": "code",
   "execution_count": 5,
   "metadata": {},
   "outputs": [
    {
     "data": {
      "text/html": [
       "<div>\n",
       "<style scoped>\n",
       "    .dataframe tbody tr th:only-of-type {\n",
       "        vertical-align: middle;\n",
       "    }\n",
       "\n",
       "    .dataframe tbody tr th {\n",
       "        vertical-align: top;\n",
       "    }\n",
       "\n",
       "    .dataframe thead th {\n",
       "        text-align: right;\n",
       "    }\n",
       "</style>\n",
       "<table border=\"1\" class=\"dataframe\">\n",
       "  <thead>\n",
       "    <tr style=\"text-align: right;\">\n",
       "      <th></th>\n",
       "      <th>Region</th>\n",
       "      <th>B_C2002</th>\n",
       "      <th>B_C2008</th>\n",
       "      <th>B_C2012</th>\n",
       "      <th>BC_2018</th>\n",
       "      <th>B_C2002Mort</th>\n",
       "      <th>B_C2008Mort</th>\n",
       "      <th>B_C2012Mort</th>\n",
       "      <th>BC_2018Mort</th>\n",
       "      <th>Unnamed: 9</th>\n",
       "      <th>...</th>\n",
       "      <th>Bladder 2018 F</th>\n",
       "      <th>Unnamed: 81</th>\n",
       "      <th>Thyroid 2002 M</th>\n",
       "      <th>Thyroid 2002 F</th>\n",
       "      <th>Thyroid 2008 M</th>\n",
       "      <th>Thyroid 2008 F</th>\n",
       "      <th>Thyroid 2012 M</th>\n",
       "      <th>Thyroid 2012 F</th>\n",
       "      <th>Thyroid 2018 M</th>\n",
       "      <th>Thyroid 2018 F</th>\n",
       "    </tr>\n",
       "  </thead>\n",
       "  <tbody>\n",
       "    <tr>\n",
       "      <th>0</th>\n",
       "      <td>North</td>\n",
       "      <td>23.2</td>\n",
       "      <td>32.7</td>\n",
       "      <td>43.2</td>\n",
       "      <td>48.9</td>\n",
       "      <td>16.7</td>\n",
       "      <td>17.8</td>\n",
       "      <td>17.4</td>\n",
       "      <td>18.4</td>\n",
       "      <td>NaN</td>\n",
       "      <td>...</td>\n",
       "      <td>3.2</td>\n",
       "      <td>NaN</td>\n",
       "      <td>NaN</td>\n",
       "      <td>NaN</td>\n",
       "      <td>NaN</td>\n",
       "      <td>NaN</td>\n",
       "      <td>1.4</td>\n",
       "      <td>4.4</td>\n",
       "      <td>1.6</td>\n",
       "      <td>5.7</td>\n",
       "    </tr>\n",
       "    <tr>\n",
       "      <th>1</th>\n",
       "      <td>West</td>\n",
       "      <td>27.8</td>\n",
       "      <td>31.8</td>\n",
       "      <td>38.6</td>\n",
       "      <td>37.3</td>\n",
       "      <td>19.6</td>\n",
       "      <td>19.0</td>\n",
       "      <td>20.1</td>\n",
       "      <td>17.8</td>\n",
       "      <td>NaN</td>\n",
       "      <td>...</td>\n",
       "      <td>1.4</td>\n",
       "      <td>NaN</td>\n",
       "      <td>NaN</td>\n",
       "      <td>NaN</td>\n",
       "      <td>NaN</td>\n",
       "      <td>NaN</td>\n",
       "      <td>0.3</td>\n",
       "      <td>1.0</td>\n",
       "      <td>0.5</td>\n",
       "      <td>1.5</td>\n",
       "    </tr>\n",
       "    <tr>\n",
       "      <th>2</th>\n",
       "      <td>Central</td>\n",
       "      <td>16.5</td>\n",
       "      <td>21.3</td>\n",
       "      <td>26.8</td>\n",
       "      <td>27.9</td>\n",
       "      <td>12.1</td>\n",
       "      <td>13.1</td>\n",
       "      <td>14.9</td>\n",
       "      <td>15.8</td>\n",
       "      <td>NaN</td>\n",
       "      <td>...</td>\n",
       "      <td>1.0</td>\n",
       "      <td>NaN</td>\n",
       "      <td>NaN</td>\n",
       "      <td>NaN</td>\n",
       "      <td>NaN</td>\n",
       "      <td>NaN</td>\n",
       "      <td>0.7</td>\n",
       "      <td>1.2</td>\n",
       "      <td>0.8</td>\n",
       "      <td>1.3</td>\n",
       "    </tr>\n",
       "    <tr>\n",
       "      <th>3</th>\n",
       "      <td>East</td>\n",
       "      <td>19.5</td>\n",
       "      <td>19.3</td>\n",
       "      <td>30.4</td>\n",
       "      <td>29.9</td>\n",
       "      <td>14.1</td>\n",
       "      <td>11.4</td>\n",
       "      <td>15.6</td>\n",
       "      <td>15.4</td>\n",
       "      <td>NaN</td>\n",
       "      <td>...</td>\n",
       "      <td>2.4</td>\n",
       "      <td>NaN</td>\n",
       "      <td>NaN</td>\n",
       "      <td>NaN</td>\n",
       "      <td>NaN</td>\n",
       "      <td>NaN</td>\n",
       "      <td>1.1</td>\n",
       "      <td>2.7</td>\n",
       "      <td>1.1</td>\n",
       "      <td>2.5</td>\n",
       "    </tr>\n",
       "    <tr>\n",
       "      <th>4</th>\n",
       "      <td>South</td>\n",
       "      <td>33.4</td>\n",
       "      <td>38.1</td>\n",
       "      <td>38.9</td>\n",
       "      <td>46.2</td>\n",
       "      <td>16.3</td>\n",
       "      <td>19.3</td>\n",
       "      <td>15.5</td>\n",
       "      <td>15.6</td>\n",
       "      <td>NaN</td>\n",
       "      <td>...</td>\n",
       "      <td>1.5</td>\n",
       "      <td>NaN</td>\n",
       "      <td>NaN</td>\n",
       "      <td>NaN</td>\n",
       "      <td>NaN</td>\n",
       "      <td>NaN</td>\n",
       "      <td>0.6</td>\n",
       "      <td>1.6</td>\n",
       "      <td>1.7</td>\n",
       "      <td>6.0</td>\n",
       "    </tr>\n",
       "  </tbody>\n",
       "</table>\n",
       "<p>5 rows × 90 columns</p>\n",
       "</div>"
      ],
      "text/plain": [
       "    Region  B_C2002  B_C2008  B_C2012  BC_2018  B_C2002Mort  B_C2008Mort  \\\n",
       "0    North     23.2     32.7     43.2     48.9         16.7         17.8   \n",
       "1     West     27.8     31.8     38.6     37.3         19.6         19.0   \n",
       "2  Central     16.5     21.3     26.8     27.9         12.1         13.1   \n",
       "3     East     19.5     19.3     30.4     29.9         14.1         11.4   \n",
       "4    South     33.4     38.1     38.9     46.2         16.3         19.3   \n",
       "\n",
       "   B_C2012Mort  BC_2018Mort  Unnamed: 9       ...        Bladder 2018 F  \\\n",
       "0         17.4         18.4         NaN       ...                   3.2   \n",
       "1         20.1         17.8         NaN       ...                   1.4   \n",
       "2         14.9         15.8         NaN       ...                   1.0   \n",
       "3         15.6         15.4         NaN       ...                   2.4   \n",
       "4         15.5         15.6         NaN       ...                   1.5   \n",
       "\n",
       "   Unnamed: 81  Thyroid 2002 M   Thyroid 2002 F   Thyroid 2008 M  \\\n",
       "0          NaN             NaN              NaN              NaN   \n",
       "1          NaN             NaN              NaN              NaN   \n",
       "2          NaN             NaN              NaN              NaN   \n",
       "3          NaN             NaN              NaN              NaN   \n",
       "4          NaN             NaN              NaN              NaN   \n",
       "\n",
       "   Thyroid 2008 F   Thyroid 2012 M  Thyroid 2012 F   Thyroid 2018 M  \\\n",
       "0             NaN              1.4             4.4              1.6   \n",
       "1             NaN              0.3             1.0              0.5   \n",
       "2             NaN              0.7             1.2              0.8   \n",
       "3             NaN              1.1             2.7              1.1   \n",
       "4             NaN              0.6             1.6              1.7   \n",
       "\n",
       "   Thyroid 2018 F  \n",
       "0             5.7  \n",
       "1             1.5  \n",
       "2             1.3  \n",
       "3             2.5  \n",
       "4             6.0  \n",
       "\n",
       "[5 rows x 90 columns]"
      ]
     },
     "execution_count": 5,
     "metadata": {},
     "output_type": "execute_result"
    }
   ],
   "source": [
    "evolution.head()"
   ]
  },
  {
   "cell_type": "code",
   "execution_count": 6,
   "metadata": {
    "collapsed": true
   },
   "outputs": [],
   "source": [
    "annee = [\"2002\",\"2008\",\"2012\",\"2018\"]"
   ]
  },
  {
   "cell_type": "code",
   "execution_count": 7,
   "metadata": {},
   "outputs": [
    {
     "data": {
      "text/html": [
       "<div>\n",
       "<style scoped>\n",
       "    .dataframe tbody tr th:only-of-type {\n",
       "        vertical-align: middle;\n",
       "    }\n",
       "\n",
       "    .dataframe tbody tr th {\n",
       "        vertical-align: top;\n",
       "    }\n",
       "\n",
       "    .dataframe thead th {\n",
       "        text-align: right;\n",
       "    }\n",
       "</style>\n",
       "<table border=\"1\" class=\"dataframe\">\n",
       "  <thead>\n",
       "    <tr style=\"text-align: right;\">\n",
       "      <th></th>\n",
       "      <th>Region</th>\n",
       "      <th>B_C2002</th>\n",
       "      <th>B_C2008</th>\n",
       "      <th>B_C2012</th>\n",
       "      <th>BC_2018</th>\n",
       "      <th>B_C2002Mort</th>\n",
       "      <th>B_C2008Mort</th>\n",
       "      <th>B_C2012Mort</th>\n",
       "      <th>BC_2018Mort</th>\n",
       "      <th>Unnamed: 9</th>\n",
       "      <th>...</th>\n",
       "      <th>Bladder 2018 F</th>\n",
       "      <th>Unnamed: 81</th>\n",
       "      <th>Thyroid 2002 M</th>\n",
       "      <th>Thyroid 2002 F</th>\n",
       "      <th>Thyroid 2008 M</th>\n",
       "      <th>Thyroid 2008 F</th>\n",
       "      <th>Thyroid 2012 M</th>\n",
       "      <th>Thyroid 2012 F</th>\n",
       "      <th>Thyroid 2018 M</th>\n",
       "      <th>Thyroid 2018 F</th>\n",
       "    </tr>\n",
       "  </thead>\n",
       "  <tbody>\n",
       "    <tr>\n",
       "      <th>North</th>\n",
       "      <td>North</td>\n",
       "      <td>23.2</td>\n",
       "      <td>32.7</td>\n",
       "      <td>43.2</td>\n",
       "      <td>48.9</td>\n",
       "      <td>16.7</td>\n",
       "      <td>17.8</td>\n",
       "      <td>17.4</td>\n",
       "      <td>18.4</td>\n",
       "      <td>NaN</td>\n",
       "      <td>...</td>\n",
       "      <td>3.2</td>\n",
       "      <td>NaN</td>\n",
       "      <td>NaN</td>\n",
       "      <td>NaN</td>\n",
       "      <td>NaN</td>\n",
       "      <td>NaN</td>\n",
       "      <td>1.4</td>\n",
       "      <td>4.4</td>\n",
       "      <td>1.6</td>\n",
       "      <td>5.7</td>\n",
       "    </tr>\n",
       "    <tr>\n",
       "      <th>West</th>\n",
       "      <td>West</td>\n",
       "      <td>27.8</td>\n",
       "      <td>31.8</td>\n",
       "      <td>38.6</td>\n",
       "      <td>37.3</td>\n",
       "      <td>19.6</td>\n",
       "      <td>19.0</td>\n",
       "      <td>20.1</td>\n",
       "      <td>17.8</td>\n",
       "      <td>NaN</td>\n",
       "      <td>...</td>\n",
       "      <td>1.4</td>\n",
       "      <td>NaN</td>\n",
       "      <td>NaN</td>\n",
       "      <td>NaN</td>\n",
       "      <td>NaN</td>\n",
       "      <td>NaN</td>\n",
       "      <td>0.3</td>\n",
       "      <td>1.0</td>\n",
       "      <td>0.5</td>\n",
       "      <td>1.5</td>\n",
       "    </tr>\n",
       "    <tr>\n",
       "      <th>Central</th>\n",
       "      <td>Central</td>\n",
       "      <td>16.5</td>\n",
       "      <td>21.3</td>\n",
       "      <td>26.8</td>\n",
       "      <td>27.9</td>\n",
       "      <td>12.1</td>\n",
       "      <td>13.1</td>\n",
       "      <td>14.9</td>\n",
       "      <td>15.8</td>\n",
       "      <td>NaN</td>\n",
       "      <td>...</td>\n",
       "      <td>1.0</td>\n",
       "      <td>NaN</td>\n",
       "      <td>NaN</td>\n",
       "      <td>NaN</td>\n",
       "      <td>NaN</td>\n",
       "      <td>NaN</td>\n",
       "      <td>0.7</td>\n",
       "      <td>1.2</td>\n",
       "      <td>0.8</td>\n",
       "      <td>1.3</td>\n",
       "    </tr>\n",
       "    <tr>\n",
       "      <th>East</th>\n",
       "      <td>East</td>\n",
       "      <td>19.5</td>\n",
       "      <td>19.3</td>\n",
       "      <td>30.4</td>\n",
       "      <td>29.9</td>\n",
       "      <td>14.1</td>\n",
       "      <td>11.4</td>\n",
       "      <td>15.6</td>\n",
       "      <td>15.4</td>\n",
       "      <td>NaN</td>\n",
       "      <td>...</td>\n",
       "      <td>2.4</td>\n",
       "      <td>NaN</td>\n",
       "      <td>NaN</td>\n",
       "      <td>NaN</td>\n",
       "      <td>NaN</td>\n",
       "      <td>NaN</td>\n",
       "      <td>1.1</td>\n",
       "      <td>2.7</td>\n",
       "      <td>1.1</td>\n",
       "      <td>2.5</td>\n",
       "    </tr>\n",
       "    <tr>\n",
       "      <th>South</th>\n",
       "      <td>South</td>\n",
       "      <td>33.4</td>\n",
       "      <td>38.1</td>\n",
       "      <td>38.9</td>\n",
       "      <td>46.2</td>\n",
       "      <td>16.3</td>\n",
       "      <td>19.3</td>\n",
       "      <td>15.5</td>\n",
       "      <td>15.6</td>\n",
       "      <td>NaN</td>\n",
       "      <td>...</td>\n",
       "      <td>1.5</td>\n",
       "      <td>NaN</td>\n",
       "      <td>NaN</td>\n",
       "      <td>NaN</td>\n",
       "      <td>NaN</td>\n",
       "      <td>NaN</td>\n",
       "      <td>0.6</td>\n",
       "      <td>1.6</td>\n",
       "      <td>1.7</td>\n",
       "      <td>6.0</td>\n",
       "    </tr>\n",
       "  </tbody>\n",
       "</table>\n",
       "<p>5 rows × 90 columns</p>\n",
       "</div>"
      ],
      "text/plain": [
       "          Region  B_C2002  B_C2008  B_C2012  BC_2018  B_C2002Mort  \\\n",
       "North      North     23.2     32.7     43.2     48.9         16.7   \n",
       "West        West     27.8     31.8     38.6     37.3         19.6   \n",
       "Central  Central     16.5     21.3     26.8     27.9         12.1   \n",
       "East        East     19.5     19.3     30.4     29.9         14.1   \n",
       "South      South     33.4     38.1     38.9     46.2         16.3   \n",
       "\n",
       "         B_C2008Mort  B_C2012Mort  BC_2018Mort  Unnamed: 9       ...        \\\n",
       "North           17.8         17.4         18.4         NaN       ...         \n",
       "West            19.0         20.1         17.8         NaN       ...         \n",
       "Central         13.1         14.9         15.8         NaN       ...         \n",
       "East            11.4         15.6         15.4         NaN       ...         \n",
       "South           19.3         15.5         15.6         NaN       ...         \n",
       "\n",
       "         Bladder 2018 F  Unnamed: 81  Thyroid 2002 M   Thyroid 2002 F  \\\n",
       "North               3.2          NaN             NaN              NaN   \n",
       "West                1.4          NaN             NaN              NaN   \n",
       "Central             1.0          NaN             NaN              NaN   \n",
       "East                2.4          NaN             NaN              NaN   \n",
       "South               1.5          NaN             NaN              NaN   \n",
       "\n",
       "          Thyroid 2008 M  Thyroid 2008 F   Thyroid 2012 M  Thyroid 2012 F  \\\n",
       "North                NaN             NaN              1.4             4.4   \n",
       "West                 NaN             NaN              0.3             1.0   \n",
       "Central              NaN             NaN              0.7             1.2   \n",
       "East                 NaN             NaN              1.1             2.7   \n",
       "South                NaN             NaN              0.6             1.6   \n",
       "\n",
       "          Thyroid 2018 M  Thyroid 2018 F  \n",
       "North                1.6             5.7  \n",
       "West                 0.5             1.5  \n",
       "Central              0.8             1.3  \n",
       "East                 1.1             2.5  \n",
       "South                1.7             6.0  \n",
       "\n",
       "[5 rows x 90 columns]"
      ]
     },
     "execution_count": 7,
     "metadata": {},
     "output_type": "execute_result"
    }
   ],
   "source": [
    "index = [\"North\", \"West\", \"Central\", \"East\", \"South\"]\n",
    "evolution.index = index\n",
    "evolution"
   ]
  },
  {
   "cell_type": "code",
   "execution_count": 146,
   "metadata": {},
   "outputs": [
    {
     "data": {
      "text/html": [
       "<div>\n",
       "<style scoped>\n",
       "    .dataframe tbody tr th:only-of-type {\n",
       "        vertical-align: middle;\n",
       "    }\n",
       "\n",
       "    .dataframe tbody tr th {\n",
       "        vertical-align: top;\n",
       "    }\n",
       "\n",
       "    .dataframe thead th {\n",
       "        text-align: right;\n",
       "    }\n",
       "</style>\n",
       "<table border=\"1\" class=\"dataframe\">\n",
       "  <thead>\n",
       "    <tr style=\"text-align: right;\">\n",
       "      <th></th>\n",
       "      <th>North</th>\n",
       "      <th>West</th>\n",
       "      <th>Central</th>\n",
       "      <th>East</th>\n",
       "      <th>South</th>\n",
       "    </tr>\n",
       "  </thead>\n",
       "  <tbody>\n",
       "    <tr>\n",
       "      <th>2002</th>\n",
       "      <td>12.0</td>\n",
       "      <td>2.4</td>\n",
       "      <td>4.7</td>\n",
       "      <td>3.6</td>\n",
       "      <td>23.1</td>\n",
       "    </tr>\n",
       "    <tr>\n",
       "      <th>2008</th>\n",
       "      <td>14.9</td>\n",
       "      <td>3.1</td>\n",
       "      <td>2.8</td>\n",
       "      <td>4.1</td>\n",
       "      <td>29.0</td>\n",
       "    </tr>\n",
       "    <tr>\n",
       "      <th>2012</th>\n",
       "      <td>15.6</td>\n",
       "      <td>1.7</td>\n",
       "      <td>2.0</td>\n",
       "      <td>3.8</td>\n",
       "      <td>26.1</td>\n",
       "    </tr>\n",
       "    <tr>\n",
       "      <th>2018</th>\n",
       "      <td>16.9</td>\n",
       "      <td>2.4</td>\n",
       "      <td>3.8</td>\n",
       "      <td>3.4</td>\n",
       "      <td>26.0</td>\n",
       "    </tr>\n",
       "  </tbody>\n",
       "</table>\n",
       "</div>"
      ],
      "text/plain": [
       "      North  West  Central  East  South\n",
       "2002   12.0   2.4      4.7   3.6   23.1\n",
       "2008   14.9   3.1      2.8   4.1   29.0\n",
       "2012   15.6   1.7      2.0   3.8   26.1\n",
       "2018   16.9   2.4      3.8   3.4   26.0"
      ]
     },
     "execution_count": 146,
     "metadata": {},
     "output_type": "execute_result"
    }
   ],
   "source": [
    "#Incidence Lung cancer\n",
    "lcm = pd.DataFrame(evolution, columns=['Lung_C2M', 'Lung_C8M', 'Lung_C12M', 'Lung_C18M']).transpose()\n",
    "lcw = pd.DataFrame(evolution, columns=['Lung_C2F', 'Lung_C8F', 'Lung_C12F',  'Lung_C18F']).transpose()\n",
    "        \n",
    "#Both men and women\n",
    "\n",
    "lcm.index = annee\n",
    "lcw.index = annee\n",
    "lungsomme = lcm.add(lcw).transpose()/2\n",
    "lcm"
   ]
  },
  {
   "cell_type": "code",
   "execution_count": 151,
   "metadata": {},
   "outputs": [
    {
     "data": {
      "image/png": "[encoded data removed]",
      "text/plain": [
       "<Figure size 432x288 with 1 Axes>"
      ]
     },
     "metadata": {},
     "output_type": "display_data"
    }
   ],
   "source": [
    "cmap = cm.get_cmap('Set2')\n",
    "lcm.transpose().plot.bar(rot=0, cmap=cmap)\n",
    "plt.suptitle('Lung cancer for men')\n",
    "plt.ylabel('Incidence per 100 000 persons')\n",
    "plt.xlabel('Regions of Africa')\n",
    "plt.show()"
   ]
  },
  {
   "cell_type": "code",
   "execution_count": 152,
   "metadata": {},
   "outputs": [
    {
     "data": {
      "image/png": "[encoded data removed]",
      "text/plain": [
       "<Figure size 432x288 with 1 Axes>"
      ]
     },
     "metadata": {},
     "output_type": "display_data"
    }
   ],
   "source": [
    "lcw.transpose().plot.bar(rot=0, cmap=cmap)\n",
    "plt.suptitle('Lung cancer for women')\n",
    "plt.ylabel('Incidence per 100 000 persons')\n",
    "plt.xlabel('Regions of Africa')\n",
    "plt.show()"
   ]
  },
  {
   "cell_type": "code",
   "execution_count": 9,
   "metadata": {},
   "outputs": [
    {
     "data": {
      "text/html": [
       "<div>\n",
       "<style scoped>\n",
       "    .dataframe tbody tr th:only-of-type {\n",
       "        vertical-align: middle;\n",
       "    }\n",
       "\n",
       "    .dataframe tbody tr th {\n",
       "        vertical-align: top;\n",
       "    }\n",
       "\n",
       "    .dataframe thead th {\n",
       "        text-align: right;\n",
       "    }\n",
       "</style>\n",
       "<table border=\"1\" class=\"dataframe\">\n",
       "  <thead>\n",
       "    <tr style=\"text-align: right;\">\n",
       "      <th></th>\n",
       "      <th>2002</th>\n",
       "      <th>2008</th>\n",
       "      <th>2012</th>\n",
       "      <th>2018</th>\n",
       "    </tr>\n",
       "  </thead>\n",
       "  <tbody>\n",
       "    <tr>\n",
       "      <th>North</th>\n",
       "      <td>3.45</td>\n",
       "      <td>3.15</td>\n",
       "      <td>3.50</td>\n",
       "      <td>3.85</td>\n",
       "    </tr>\n",
       "    <tr>\n",
       "      <th>West</th>\n",
       "      <td>3.50</td>\n",
       "      <td>3.90</td>\n",
       "      <td>2.95</td>\n",
       "      <td>4.35</td>\n",
       "    </tr>\n",
       "    <tr>\n",
       "      <th>Central</th>\n",
       "      <td>13.00</td>\n",
       "      <td>5.00</td>\n",
       "      <td>4.00</td>\n",
       "      <td>4.70</td>\n",
       "    </tr>\n",
       "    <tr>\n",
       "      <th>East</th>\n",
       "      <td>6.45</td>\n",
       "      <td>4.80</td>\n",
       "      <td>4.55</td>\n",
       "      <td>4.35</td>\n",
       "    </tr>\n",
       "    <tr>\n",
       "      <th>South</th>\n",
       "      <td>5.95</td>\n",
       "      <td>3.15</td>\n",
       "      <td>5.05</td>\n",
       "      <td>4.00</td>\n",
       "    </tr>\n",
       "  </tbody>\n",
       "</table>\n",
       "</div>"
      ],
      "text/plain": [
       "          2002  2008  2012  2018\n",
       "North     3.45  3.15  3.50  3.85\n",
       "West      3.50  3.90  2.95  4.35\n",
       "Central  13.00  5.00  4.00  4.70\n",
       "East      6.45  4.80  4.55  4.35\n",
       "South     5.95  3.15  5.05  4.00"
      ]
     },
     "execution_count": 9,
     "metadata": {},
     "output_type": "execute_result"
    }
   ],
   "source": [
    "#Incidence Stomach cancer\n",
    "stm = pd.DataFrame(evolution, columns=['St_C2M',  'St_C8M', 'St_C12M', 'St_C18M']).transpose()\n",
    "stw = pd.DataFrame(evolution, columns=['St_C2F',  'St_C8F',  'St_C12F', 'St_C18F']).transpose()\n",
    "\n",
    "#Both men and women\n",
    "\n",
    "stm.index = annee\n",
    "stw.index = annee\n",
    "stomachsomme = stm.add(stw).transpose()/2\n",
    "stomachsomme"
   ]
  },
  {
   "cell_type": "code",
   "execution_count": 10,
   "metadata": {},
   "outputs": [
    {
     "data": {
      "text/html": [
       "<div>\n",
       "<style scoped>\n",
       "    .dataframe tbody tr th:only-of-type {\n",
       "        vertical-align: middle;\n",
       "    }\n",
       "\n",
       "    .dataframe tbody tr th {\n",
       "        vertical-align: top;\n",
       "    }\n",
       "\n",
       "    .dataframe thead th {\n",
       "        text-align: right;\n",
       "    }\n",
       "</style>\n",
       "<table border=\"1\" class=\"dataframe\">\n",
       "  <thead>\n",
       "    <tr style=\"text-align: right;\">\n",
       "      <th></th>\n",
       "      <th>2002</th>\n",
       "      <th>2008</th>\n",
       "      <th>2012</th>\n",
       "      <th>2018</th>\n",
       "    </tr>\n",
       "  </thead>\n",
       "  <tbody>\n",
       "    <tr>\n",
       "      <th>North</th>\n",
       "      <td>4.55</td>\n",
       "      <td>6.40</td>\n",
       "      <td>7.70</td>\n",
       "      <td>8.85</td>\n",
       "    </tr>\n",
       "    <tr>\n",
       "      <th>West</th>\n",
       "      <td>4.30</td>\n",
       "      <td>4.95</td>\n",
       "      <td>4.15</td>\n",
       "      <td>5.55</td>\n",
       "    </tr>\n",
       "    <tr>\n",
       "      <th>Central</th>\n",
       "      <td>2.80</td>\n",
       "      <td>3.80</td>\n",
       "      <td>4.75</td>\n",
       "      <td>6.35</td>\n",
       "    </tr>\n",
       "    <tr>\n",
       "      <th>East</th>\n",
       "      <td>5.10</td>\n",
       "      <td>5.25</td>\n",
       "      <td>6.60</td>\n",
       "      <td>7.00</td>\n",
       "    </tr>\n",
       "    <tr>\n",
       "      <th>South</th>\n",
       "      <td>10.10</td>\n",
       "      <td>14.30</td>\n",
       "      <td>11.50</td>\n",
       "      <td>13.55</td>\n",
       "    </tr>\n",
       "  </tbody>\n",
       "</table>\n",
       "</div>"
      ],
      "text/plain": [
       "          2002   2008   2012   2018\n",
       "North     4.55   6.40   7.70   8.85\n",
       "West      4.30   4.95   4.15   5.55\n",
       "Central   2.80   3.80   4.75   6.35\n",
       "East      5.10   5.25   6.60   7.00\n",
       "South    10.10  14.30  11.50  13.55"
      ]
     },
     "execution_count": 10,
     "metadata": {},
     "output_type": "execute_result"
    }
   ],
   "source": [
    "#Incidence Colorectal cancer\n",
    "csm = pd.DataFrame(evolution, columns=['Cr_C2M', 'Cr_C8M', 'Cr_C12M', 'Cr_C18M']).transpose()\n",
    "csw = pd.DataFrame(evolution, columns=['Cr_C2F', 'Cr_C8F', 'Cr_C12F',  'Cr_C18F']).transpose()\n",
    "\n",
    "       \n",
    "\n",
    "#Both men and women\n",
    "csm.index = annee\n",
    "csw.index = annee\n",
    "colorectalsomme = csm.add(csw).transpose()/2\n",
    "colorectalsomme"
   ]
  },
  {
   "cell_type": "code",
   "execution_count": 11,
   "metadata": {},
   "outputs": [
    {
     "data": {
      "text/html": [
       "<div>\n",
       "<style scoped>\n",
       "    .dataframe tbody tr th:only-of-type {\n",
       "        vertical-align: middle;\n",
       "    }\n",
       "\n",
       "    .dataframe tbody tr th {\n",
       "        vertical-align: top;\n",
       "    }\n",
       "\n",
       "    .dataframe thead th {\n",
       "        text-align: right;\n",
       "    }\n",
       "</style>\n",
       "<table border=\"1\" class=\"dataframe\">\n",
       "  <thead>\n",
       "    <tr style=\"text-align: right;\">\n",
       "      <th></th>\n",
       "      <th>2002</th>\n",
       "      <th>2008</th>\n",
       "      <th>2012</th>\n",
       "      <th>2018</th>\n",
       "    </tr>\n",
       "  </thead>\n",
       "  <tbody>\n",
       "    <tr>\n",
       "      <th>North</th>\n",
       "      <td>1.75</td>\n",
       "      <td>1.80</td>\n",
       "      <td>1.95</td>\n",
       "      <td>1.55</td>\n",
       "    </tr>\n",
       "    <tr>\n",
       "      <th>West</th>\n",
       "      <td>0.95</td>\n",
       "      <td>1.20</td>\n",
       "      <td>0.60</td>\n",
       "      <td>1.20</td>\n",
       "    </tr>\n",
       "    <tr>\n",
       "      <th>Central</th>\n",
       "      <td>0.85</td>\n",
       "      <td>1.15</td>\n",
       "      <td>3.10</td>\n",
       "      <td>1.90</td>\n",
       "    </tr>\n",
       "    <tr>\n",
       "      <th>East</th>\n",
       "      <td>13.55</td>\n",
       "      <td>10.65</td>\n",
       "      <td>9.85</td>\n",
       "      <td>8.40</td>\n",
       "    </tr>\n",
       "    <tr>\n",
       "      <th>South</th>\n",
       "      <td>13.35</td>\n",
       "      <td>17.00</td>\n",
       "      <td>10.20</td>\n",
       "      <td>8.05</td>\n",
       "    </tr>\n",
       "  </tbody>\n",
       "</table>\n",
       "</div>"
      ],
      "text/plain": [
       "          2002   2008   2012  2018\n",
       "North     1.75   1.80   1.95  1.55\n",
       "West      0.95   1.20   0.60  1.20\n",
       "Central   0.85   1.15   3.10  1.90\n",
       "East     13.55  10.65   9.85  8.40\n",
       "South    13.35  17.00  10.20  8.05"
      ]
     },
     "execution_count": 11,
     "metadata": {},
     "output_type": "execute_result"
    }
   ],
   "source": [
    "#Incidence Eosophagus cancer\n",
    "esm = pd.DataFrame(evolution, columns=['Es_C2M', 'Es_C8M', 'Es_C12M', 'Es_C18M']).transpose()\n",
    "esw = pd.DataFrame(evolution, columns=['Es_C2F', 'Es_C8F', 'Es_C12F','Es_C18F']).transpose()\n",
    "\n",
    "#Both men and women\n",
    "esm.index = annee\n",
    "esw.index = annee\n",
    "eosophagussomme = esm.add(esw).transpose()/2\n",
    "eosophagussomme"
   ]
  },
  {
   "cell_type": "code",
   "execution_count": 12,
   "metadata": {},
   "outputs": [
    {
     "data": {
      "text/html": [
       "<div>\n",
       "<style scoped>\n",
       "    .dataframe tbody tr th:only-of-type {\n",
       "        vertical-align: middle;\n",
       "    }\n",
       "\n",
       "    .dataframe tbody tr th {\n",
       "        vertical-align: top;\n",
       "    }\n",
       "\n",
       "    .dataframe thead th {\n",
       "        text-align: right;\n",
       "    }\n",
       "</style>\n",
       "<table border=\"1\" class=\"dataframe\">\n",
       "  <thead>\n",
       "    <tr style=\"text-align: right;\">\n",
       "      <th></th>\n",
       "      <th>2002</th>\n",
       "      <th>2008</th>\n",
       "      <th>2012</th>\n",
       "      <th>2018</th>\n",
       "    </tr>\n",
       "  </thead>\n",
       "  <tbody>\n",
       "    <tr>\n",
       "      <th>North</th>\n",
       "      <td>3.20</td>\n",
       "      <td>5.00</td>\n",
       "      <td>12.50</td>\n",
       "      <td>14.30</td>\n",
       "    </tr>\n",
       "    <tr>\n",
       "      <th>West</th>\n",
       "      <td>10.45</td>\n",
       "      <td>12.30</td>\n",
       "      <td>12.25</td>\n",
       "      <td>8.40</td>\n",
       "    </tr>\n",
       "    <tr>\n",
       "      <th>Central</th>\n",
       "      <td>20.60</td>\n",
       "      <td>14.25</td>\n",
       "      <td>8.10</td>\n",
       "      <td>6.65</td>\n",
       "    </tr>\n",
       "    <tr>\n",
       "      <th>East</th>\n",
       "      <td>14.85</td>\n",
       "      <td>5.40</td>\n",
       "      <td>4.05</td>\n",
       "      <td>4.90</td>\n",
       "    </tr>\n",
       "    <tr>\n",
       "      <th>South</th>\n",
       "      <td>4.75</td>\n",
       "      <td>9.50</td>\n",
       "      <td>5.00</td>\n",
       "      <td>5.30</td>\n",
       "    </tr>\n",
       "  </tbody>\n",
       "</table>\n",
       "</div>"
      ],
      "text/plain": [
       "          2002   2008   2012   2018\n",
       "North     3.20   5.00  12.50  14.30\n",
       "West     10.45  12.30  12.25   8.40\n",
       "Central  20.60  14.25   8.10   6.65\n",
       "East     14.85   5.40   4.05   4.90\n",
       "South     4.75   9.50   5.00   5.30"
      ]
     },
     "execution_count": 12,
     "metadata": {},
     "output_type": "execute_result"
    }
   ],
   "source": [
    "#Incidence Liver cancer\n",
    "liverm = pd.DataFrame(evolution, columns=['Liver 2002 M', 'Liver 2008 M', 'Liver 2012 M', 'Liver 2018 M']).transpose()\n",
    "liverw = pd.DataFrame(evolution, columns=['Liver 2002 F','Liver 2008 F','Liver 2012 F','Liver 2018 F']).transpose()\n",
    "\n",
    "#Both men and women\n",
    "liverm.index = annee\n",
    "liverw.index = annee\n",
    "Liversomme = liverm.add(liverw).transpose()/2\n",
    "Liversomme"
   ]
  },
  {
   "cell_type": "code",
   "execution_count": 13,
   "metadata": {},
   "outputs": [
    {
     "data": {
      "text/html": [
       "<div>\n",
       "<style scoped>\n",
       "    .dataframe tbody tr th:only-of-type {\n",
       "        vertical-align: middle;\n",
       "    }\n",
       "\n",
       "    .dataframe tbody tr th {\n",
       "        vertical-align: top;\n",
       "    }\n",
       "\n",
       "    .dataframe thead th {\n",
       "        text-align: right;\n",
       "    }\n",
       "</style>\n",
       "<table border=\"1\" class=\"dataframe\">\n",
       "  <thead>\n",
       "    <tr style=\"text-align: right;\">\n",
       "      <th></th>\n",
       "      <th>2002</th>\n",
       "      <th>2008</th>\n",
       "      <th>2018</th>\n",
       "    </tr>\n",
       "  </thead>\n",
       "  <tbody>\n",
       "    <tr>\n",
       "      <th>North</th>\n",
       "      <td>11.95</td>\n",
       "      <td>9.15</td>\n",
       "      <td>8.75</td>\n",
       "    </tr>\n",
       "    <tr>\n",
       "      <th>West</th>\n",
       "      <td>2.70</td>\n",
       "      <td>1.70</td>\n",
       "      <td>1.85</td>\n",
       "    </tr>\n",
       "    <tr>\n",
       "      <th>Central</th>\n",
       "      <td>1.20</td>\n",
       "      <td>1.75</td>\n",
       "      <td>1.15</td>\n",
       "    </tr>\n",
       "    <tr>\n",
       "      <th>East</th>\n",
       "      <td>4.15</td>\n",
       "      <td>2.65</td>\n",
       "      <td>2.80</td>\n",
       "    </tr>\n",
       "    <tr>\n",
       "      <th>South</th>\n",
       "      <td>6.95</td>\n",
       "      <td>4.70</td>\n",
       "      <td>3.90</td>\n",
       "    </tr>\n",
       "  </tbody>\n",
       "</table>\n",
       "</div>"
      ],
      "text/plain": [
       "          2002  2008  2018\n",
       "North    11.95  9.15  8.75\n",
       "West      2.70  1.70  1.85\n",
       "Central   1.20  1.75  1.15\n",
       "East      4.15  2.65  2.80\n",
       "South     6.95  4.70  3.90"
      ]
     },
     "execution_count": 13,
     "metadata": {},
     "output_type": "execute_result"
    }
   ],
   "source": [
    "#Incidence Bladder cancer\n",
    "bdm = pd.DataFrame(evolution, columns=['Bladder 2002 M', 'Bladder 2012 M', 'Bladder 2018 M']).transpose()\n",
    "bdw = pd.DataFrame(evolution, columns=['Bladder 2002 F', 'Bladder 2012 F', 'Bladder 2018 F']).transpose()\n",
    "\n",
    "#Both men and women\n",
    "bdm.index = [\"2002\", \"2008\", \"2018\"]\n",
    "bdw.index = [\"2002\", \"2008\", \"2018\"]\n",
    "Bladdersomme = bdm.add(bdw).transpose()/2\n",
    "Bladdersomme\n",
    "#tym, tyw#, Thyroidsomme"
   ]
  },
  {
   "cell_type": "code",
   "execution_count": 14,
   "metadata": {},
   "outputs": [
    {
     "data": {
      "text/html": [
       "<div>\n",
       "<style scoped>\n",
       "    .dataframe tbody tr th:only-of-type {\n",
       "        vertical-align: middle;\n",
       "    }\n",
       "\n",
       "    .dataframe tbody tr th {\n",
       "        vertical-align: top;\n",
       "    }\n",
       "\n",
       "    .dataframe thead th {\n",
       "        text-align: right;\n",
       "    }\n",
       "</style>\n",
       "<table border=\"1\" class=\"dataframe\">\n",
       "  <thead>\n",
       "    <tr style=\"text-align: right;\">\n",
       "      <th></th>\n",
       "      <th>2012</th>\n",
       "      <th>2018</th>\n",
       "    </tr>\n",
       "  </thead>\n",
       "  <tbody>\n",
       "    <tr>\n",
       "      <th>North</th>\n",
       "      <td>2.90</td>\n",
       "      <td>3.65</td>\n",
       "    </tr>\n",
       "    <tr>\n",
       "      <th>West</th>\n",
       "      <td>0.65</td>\n",
       "      <td>1.00</td>\n",
       "    </tr>\n",
       "    <tr>\n",
       "      <th>Central</th>\n",
       "      <td>0.95</td>\n",
       "      <td>1.05</td>\n",
       "    </tr>\n",
       "    <tr>\n",
       "      <th>East</th>\n",
       "      <td>1.90</td>\n",
       "      <td>1.80</td>\n",
       "    </tr>\n",
       "    <tr>\n",
       "      <th>South</th>\n",
       "      <td>1.10</td>\n",
       "      <td>3.85</td>\n",
       "    </tr>\n",
       "  </tbody>\n",
       "</table>\n",
       "</div>"
      ],
      "text/plain": [
       "         2012  2018\n",
       "North    2.90  3.65\n",
       "West     0.65  1.00\n",
       "Central  0.95  1.05\n",
       "East     1.90  1.80\n",
       "South    1.10  3.85"
      ]
     },
     "execution_count": 14,
     "metadata": {},
     "output_type": "execute_result"
    }
   ],
   "source": [
    "#Incidence Thyroide cancer\n",
    "tym = pd.DataFrame(evolution, columns=[' Thyroid 2012 M', ' Thyroid 2018 M']).transpose()\n",
    "tyw = pd.DataFrame(evolution, columns=['Thyroid 2012 F', 'Thyroid 2018 F']).transpose()\n",
    "\n",
    "#Both men and women\n",
    "tym.index = [\"2012\", \"2018\"]\n",
    "tyw.index = [\"2012\", \"2018\"]\n",
    "Thyroidsomme = tym.add(tyw).transpose()/2\n",
    "Thyroidsomme"
   ]
  },
  {
   "cell_type": "code",
   "execution_count": 15,
   "metadata": {},
   "outputs": [
    {
     "data": {
      "text/html": [
       "<div>\n",
       "<style scoped>\n",
       "    .dataframe tbody tr th:only-of-type {\n",
       "        vertical-align: middle;\n",
       "    }\n",
       "\n",
       "    .dataframe tbody tr th {\n",
       "        vertical-align: top;\n",
       "    }\n",
       "\n",
       "    .dataframe thead th {\n",
       "        text-align: right;\n",
       "    }\n",
       "</style>\n",
       "<table border=\"1\" class=\"dataframe\">\n",
       "  <thead>\n",
       "    <tr style=\"text-align: right;\">\n",
       "      <th></th>\n",
       "      <th>2002</th>\n",
       "      <th>2008</th>\n",
       "      <th>2012</th>\n",
       "      <th>2018</th>\n",
       "    </tr>\n",
       "  </thead>\n",
       "  <tbody>\n",
       "    <tr>\n",
       "      <th>North</th>\n",
       "      <td>71.982759</td>\n",
       "      <td>54.434251</td>\n",
       "      <td>40.277778</td>\n",
       "      <td>37.627812</td>\n",
       "    </tr>\n",
       "    <tr>\n",
       "      <th>West</th>\n",
       "      <td>70.503597</td>\n",
       "      <td>59.748428</td>\n",
       "      <td>52.072539</td>\n",
       "      <td>47.721180</td>\n",
       "    </tr>\n",
       "    <tr>\n",
       "      <th>Central</th>\n",
       "      <td>73.333333</td>\n",
       "      <td>61.502347</td>\n",
       "      <td>55.597015</td>\n",
       "      <td>56.630824</td>\n",
       "    </tr>\n",
       "    <tr>\n",
       "      <th>East</th>\n",
       "      <td>72.307692</td>\n",
       "      <td>59.067358</td>\n",
       "      <td>51.315789</td>\n",
       "      <td>51.505017</td>\n",
       "    </tr>\n",
       "    <tr>\n",
       "      <th>South</th>\n",
       "      <td>48.802395</td>\n",
       "      <td>50.656168</td>\n",
       "      <td>39.845758</td>\n",
       "      <td>33.766234</td>\n",
       "    </tr>\n",
       "  </tbody>\n",
       "</table>\n",
       "</div>"
      ],
      "text/plain": [
       "              2002       2008       2012       2018\n",
       "North    71.982759  54.434251  40.277778  37.627812\n",
       "West     70.503597  59.748428  52.072539  47.721180\n",
       "Central  73.333333  61.502347  55.597015  56.630824\n",
       "East     72.307692  59.067358  51.315789  51.505017\n",
       "South    48.802395  50.656168  39.845758  33.766234"
      ]
     },
     "execution_count": 15,
     "metadata": {},
     "output_type": "execute_result"
    }
   ],
   "source": [
    "#Incidence Breast cancer\n",
    "bcinc = pd.DataFrame(evolution, columns=[\"B_C2002\", \"B_C2008\", \"B_C2012\", \"BC_2018\"]).transpose()\n",
    "bcmort = pd.DataFrame(evolution, columns=['B_C2002Mort', 'B_C2008Mort', 'B_C2012Mort', 'BC_2018Mort']).transpose()\n",
    "\n",
    "bcinc.index = annee\n",
    "bcmort.index = annee\n",
    "\n",
    "fat = bcmort.div(bcinc).transpose()*100 # breast cancer fatality \n",
    "fat"
   ]
  },
  {
   "cell_type": "code",
   "execution_count": 16,
   "metadata": {},
   "outputs": [
    {
     "data": {
      "text/html": [
       "<div>\n",
       "<style scoped>\n",
       "    .dataframe tbody tr th:only-of-type {\n",
       "        vertical-align: middle;\n",
       "    }\n",
       "\n",
       "    .dataframe tbody tr th {\n",
       "        vertical-align: top;\n",
       "    }\n",
       "\n",
       "    .dataframe thead th {\n",
       "        text-align: right;\n",
       "    }\n",
       "</style>\n",
       "<table border=\"1\" class=\"dataframe\">\n",
       "  <thead>\n",
       "    <tr style=\"text-align: right;\">\n",
       "      <th></th>\n",
       "      <th>2002</th>\n",
       "      <th>2008</th>\n",
       "      <th>2012</th>\n",
       "      <th>2018</th>\n",
       "    </tr>\n",
       "  </thead>\n",
       "  <tbody>\n",
       "    <tr>\n",
       "      <th>North</th>\n",
       "      <td>80.991736</td>\n",
       "      <td>60.606061</td>\n",
       "      <td>48.484848</td>\n",
       "      <td>70.833333</td>\n",
       "    </tr>\n",
       "    <tr>\n",
       "      <th>West</th>\n",
       "      <td>81.228669</td>\n",
       "      <td>71.216617</td>\n",
       "      <td>63.139932</td>\n",
       "      <td>77.702703</td>\n",
       "    </tr>\n",
       "    <tr>\n",
       "      <th>Central</th>\n",
       "      <td>82.142857</td>\n",
       "      <td>73.913043</td>\n",
       "      <td>72.549020</td>\n",
       "      <td>78.731343</td>\n",
       "    </tr>\n",
       "    <tr>\n",
       "      <th>East</th>\n",
       "      <td>81.030445</td>\n",
       "      <td>73.333333</td>\n",
       "      <td>64.637002</td>\n",
       "      <td>74.812968</td>\n",
       "    </tr>\n",
       "    <tr>\n",
       "      <th>South</th>\n",
       "      <td>59.162304</td>\n",
       "      <td>55.223881</td>\n",
       "      <td>56.825397</td>\n",
       "      <td>46.403712</td>\n",
       "    </tr>\n",
       "  </tbody>\n",
       "</table>\n",
       "</div>"
      ],
      "text/plain": [
       "              2002       2008       2012       2018\n",
       "North    80.991736  60.606061  48.484848  70.833333\n",
       "West     81.228669  71.216617  63.139932  77.702703\n",
       "Central  82.142857  73.913043  72.549020  78.731343\n",
       "East     81.030445  73.333333  64.637002  74.812968\n",
       "South    59.162304  55.223881  56.825397  46.403712"
      ]
     },
     "execution_count": 16,
     "metadata": {},
     "output_type": "execute_result"
    }
   ],
   "source": [
    "#Incidence Cervix uteri cancer\n",
    "cervixinc = pd.DataFrame(evolution, columns=['Cervix2002', 'Cervix2008', 'Cervix2012', 'Cervix2018']).transpose()\n",
    "cervixmort = pd.DataFrame(evolution, columns=['Cervix2002Mort', 'Cervix2008Mort', 'Cervix2012Mort', 'Cervix2018Mort']).transpose()\n",
    "\n",
    "cervixinc.index = annee\n",
    "cervixmort.index = annee\n",
    "\n",
    "fat = cervixmort.div(cervixinc).transpose()*100 # breast cancer fatality \n",
    "fat"
   ]
  },
  {
   "cell_type": "code",
   "execution_count": 17,
   "metadata": {},
   "outputs": [
    {
     "data": {
      "text/html": [
       "<div>\n",
       "<style scoped>\n",
       "    .dataframe tbody tr th:only-of-type {\n",
       "        vertical-align: middle;\n",
       "    }\n",
       "\n",
       "    .dataframe tbody tr th {\n",
       "        vertical-align: top;\n",
       "    }\n",
       "\n",
       "    .dataframe thead th {\n",
       "        text-align: right;\n",
       "    }\n",
       "</style>\n",
       "<table border=\"1\" class=\"dataframe\">\n",
       "  <thead>\n",
       "    <tr style=\"text-align: right;\">\n",
       "      <th></th>\n",
       "      <th>2002</th>\n",
       "      <th>2008</th>\n",
       "      <th>2012</th>\n",
       "      <th>2018</th>\n",
       "    </tr>\n",
       "  </thead>\n",
       "  <tbody>\n",
       "    <tr>\n",
       "      <th>North</th>\n",
       "      <td>84.482759</td>\n",
       "      <td>76.543210</td>\n",
       "      <td>66.037736</td>\n",
       "      <td>43.939394</td>\n",
       "    </tr>\n",
       "    <tr>\n",
       "      <th>West</th>\n",
       "      <td>82.901554</td>\n",
       "      <td>82.432432</td>\n",
       "      <td>84.462151</td>\n",
       "      <td>58.307210</td>\n",
       "    </tr>\n",
       "    <tr>\n",
       "      <th>Central</th>\n",
       "      <td>86.122449</td>\n",
       "      <td>81.707317</td>\n",
       "      <td>89.629630</td>\n",
       "      <td>63.231198</td>\n",
       "    </tr>\n",
       "    <tr>\n",
       "      <th>East</th>\n",
       "      <td>85.507246</td>\n",
       "      <td>80.689655</td>\n",
       "      <td>80.257511</td>\n",
       "      <td>61.924686</td>\n",
       "    </tr>\n",
       "    <tr>\n",
       "      <th>South</th>\n",
       "      <td>55.308642</td>\n",
       "      <td>35.807050</td>\n",
       "      <td>39.482201</td>\n",
       "      <td>41.809672</td>\n",
       "    </tr>\n",
       "  </tbody>\n",
       "</table>\n",
       "</div>"
      ],
      "text/plain": [
       "              2002       2008       2012       2018\n",
       "North    84.482759  76.543210  66.037736  43.939394\n",
       "West     82.901554  82.432432  84.462151  58.307210\n",
       "Central  86.122449  81.707317  89.629630  63.231198\n",
       "East     85.507246  80.689655  80.257511  61.924686\n",
       "South    55.308642  35.807050  39.482201  41.809672"
      ]
     },
     "execution_count": 17,
     "metadata": {},
     "output_type": "execute_result"
    }
   ],
   "source": [
    "#Incidence Prostate cancer\n",
    "prostinc = pd.DataFrame(evolution, columns=['Prost2002', 'Prost2008', 'Prost2012', 'Prost2018']).transpose()\n",
    "prostmort = pd.DataFrame(evolution, columns=['Prost2002Mort', 'Prost2008Mort', 'Prost2012Mort', 'Prost2018Mort']).transpose()\n",
    "\n",
    "prostinc.index = annee\n",
    "prostmort.index = annee\n",
    "\n",
    "fat = prostmort.div(prostinc).transpose()*100 # breast cancer fatality \n",
    "fat"
   ]
  },
  {
   "cell_type": "code",
   "execution_count": 18,
   "metadata": {
    "collapsed": true
   },
   "outputs": [],
   "source": [
    "#North = [\"MOR\",\"ALG\",\"TUN\",\"LIB\",\"EGY\",\"SUD\"]\n",
    "#South = [\"NAM\",\"BOT\",\"SAF\",\"SWA\",\"LES\"] #ok\n",
    "#Central = [\"CHD\",\"CAF\",\"CMR\",\"EQG\",\"GAB\",\"PRC\",\"ZAI\",\"ANG\", \"STP\"]\n",
    "#'CAP', 'GUB', 'WES', 'GIN=GUI', CDI, MAL, BUF, NIG, \n",
    "#Reste South Sudan au Nord ; \n",
    "#West = [\"MAU\",\"SEN\",\"GAM\",\"GUI\",\"SIL\",\"LIR\",\"GHA\",\"TOG\",\"BEN\",\"NIR\", \"BKF\", \"CVI\", \"IVC\", \"GBS\", \"MLI\", \"NER\"]\n",
    "#East = [\"BDI\", \"COI\", \"DJI\", \"ERI\", \"ETH\", \"KEN\", \"MAG\", \"MLW\", \"MAR\", \"MOZ\", \"RWA\", \"SEY\", \"SOM\", \"UGA\", \"ZAM\", \"ZIM\", \"URT\"]"
   ]
  },
  {
   "cell_type": "code",
   "execution_count": 19,
   "metadata": {
    "collapsed": true
   },
   "outputs": [],
   "source": [
    "North = [\"MAR\",\"DZA\",\"TUN\",\"LBY\",\"EGY\",\"SDN\", \"SSD\"]\n",
    "South = [\"NAM\",\"BWA\",\"ZAF\",\"SWZ\",\"LSO\"] \n",
    "Central = [\"TCD\",\"CAF\",\"CMR\",\"GNQ\",\"GAB\",\"COG\",\"COD\",\"AGO\", \"STP\"]#ok\n",
    "\n",
    "West = [\"MRT\",\"SEN\",\"GMB\",\"GIN\",\"SLE\",\"LBR\",\"GHA\",\"TGO\",\"BEN\",\"NGA\", \"BFA\", \"CPV\", \"CIV\", \"GNB\", \"MLI\", \"NER\",'ESH']\n",
    "East = [\"BDI\", \"COM\", \"DJI\", \"ERI\", \"ETH\", \"KEN\", \"MDG\", \"MWI\", \"MUS\", \"MOZ\", \"RWA\", \"SYC\", \"SOM\", \"UGA\", \"ZMB\", \"ZWE\", \"TZA\", \"-99\"]"
   ]
  },
  {
   "cell_type": "code",
   "execution_count": 20,
   "metadata": {},
   "outputs": [
    {
     "data": {
      "text/plain": [
       "(7, 9, 5)"
      ]
     },
     "execution_count": 20,
     "metadata": {},
     "output_type": "execute_result"
    }
   ],
   "source": [
    "len(North), len(Central), len(South)"
   ]
  },
  {
   "cell_type": "code",
   "execution_count": 21,
   "metadata": {},
   "outputs": [
    {
     "data": {
      "text/plain": [
       "(18, 17)"
      ]
     },
     "execution_count": 21,
     "metadata": {},
     "output_type": "execute_result"
    }
   ],
   "source": [
    "len(East), len(West)"
   ]
  },
  {
   "cell_type": "code",
   "execution_count": 22,
   "metadata": {},
   "outputs": [
    {
     "data": {
      "text/html": [
       "<div>\n",
       "<style scoped>\n",
       "    .dataframe tbody tr th:only-of-type {\n",
       "        vertical-align: middle;\n",
       "    }\n",
       "\n",
       "    .dataframe tbody tr th {\n",
       "        vertical-align: top;\n",
       "    }\n",
       "\n",
       "    .dataframe thead th {\n",
       "        text-align: right;\n",
       "    }\n",
       "</style>\n",
       "<table border=\"1\" class=\"dataframe\">\n",
       "  <thead>\n",
       "    <tr style=\"text-align: right;\">\n",
       "      <th></th>\n",
       "      <th>Northern Africa (210 002 000)</th>\n",
       "      <th>West Africa (331 255 000)</th>\n",
       "      <th>Central Africa (135 750 000)</th>\n",
       "      <th>East Africa (373 202 000)</th>\n",
       "      <th>Southern Africa (60 425 000)</th>\n",
       "    </tr>\n",
       "  </thead>\n",
       "  <tbody>\n",
       "    <tr>\n",
       "      <th>0</th>\n",
       "      <td>Maroc (35 280 451)</td>\n",
       "      <td>Mauritanie (4 166 000)</td>\n",
       "      <td>Tchad (14 485 740)</td>\n",
       "      <td>Erythree (5 351 000)</td>\n",
       "      <td>Namibie (2 513 000)</td>\n",
       "    </tr>\n",
       "    <tr>\n",
       "      <th>1</th>\n",
       "      <td>Algerie (40 610 154)</td>\n",
       "      <td>Senegal (15 580 485)</td>\n",
       "      <td>Centrafrique (4 998 000)</td>\n",
       "      <td>Ethiopie (101 850 000)</td>\n",
       "      <td>Botswana (2 3003 000)</td>\n",
       "    </tr>\n",
       "    <tr>\n",
       "      <th>2</th>\n",
       "      <td>Tunise (11 411 212)</td>\n",
       "      <td>Gambie (2 054 000)</td>\n",
       "      <td>Cameroun (23 920 400)</td>\n",
       "      <td>Ouganda (41 175 440)</td>\n",
       "      <td>Afrique du sud (54 975 900)</td>\n",
       "    </tr>\n",
       "    <tr>\n",
       "      <th>3</th>\n",
       "      <td>Libye(6 330 000)</td>\n",
       "      <td>Guinee Bissau (1 888 000)</td>\n",
       "      <td>Guinee Equatoriale (869 000)</td>\n",
       "      <td>Kenya (47 450 250)</td>\n",
       "      <td>Swaziland (1 220 000)</td>\n",
       "    </tr>\n",
       "    <tr>\n",
       "      <th>4</th>\n",
       "      <td>Egypte (93 380 570)</td>\n",
       "      <td>Guinee (12 940 000)</td>\n",
       "      <td>Gabon (1 763 000)</td>\n",
       "      <td>Djibouti (899 000)</td>\n",
       "      <td>Lesotho (2 160 000)</td>\n",
       "    </tr>\n",
       "  </tbody>\n",
       "</table>\n",
       "</div>"
      ],
      "text/plain": [
       "  Northern Africa (210 002 000)  West Africa (331 255 000)  \\\n",
       "0            Maroc (35 280 451)     Mauritanie (4 166 000)   \n",
       "1          Algerie (40 610 154)       Senegal (15 580 485)   \n",
       "2           Tunise (11 411 212)         Gambie (2 054 000)   \n",
       "3              Libye(6 330 000)  Guinee Bissau (1 888 000)   \n",
       "4           Egypte (93 380 570)        Guinee (12 940 000)   \n",
       "\n",
       "   Central Africa (135 750 000) East Africa (373 202 000)  \\\n",
       "0            Tchad (14 485 740)      Erythree (5 351 000)   \n",
       "1      Centrafrique (4 998 000)    Ethiopie (101 850 000)   \n",
       "2         Cameroun (23 920 400)      Ouganda (41 175 440)   \n",
       "3  Guinee Equatoriale (869 000)        Kenya (47 450 250)   \n",
       "4             Gabon (1 763 000)        Djibouti (899 000)   \n",
       "\n",
       "  Southern Africa (60 425 000)  \n",
       "0          Namibie (2 513 000)  \n",
       "1        Botswana (2 3003 000)  \n",
       "2  Afrique du sud (54 975 900)  \n",
       "3        Swaziland (1 220 000)  \n",
       "4          Lesotho (2 160 000)  "
      ]
     },
     "execution_count": 22,
     "metadata": {},
     "output_type": "execute_result"
    }
   ],
   "source": [
    "pays.head()"
   ]
  },
  {
   "cell_type": "markdown",
   "metadata": {},
   "source": [
    "Ajout d'une colonne région (Reg) dans la base 'Africa' (qui est .shp)\n",
    "Régler ce problème pour la suite des affichages sur la carte\n",
    "\n",
    "Fonction nous permettant d'ajouter des données d'incidence ou de mortalité ou de fatalité"
   ]
  },
  {
   "cell_type": "code",
   "execution_count": 23,
   "metadata": {},
   "outputs": [],
   "source": [
    "#!pip install pyshp\n",
    "import numpy as np\n",
    "import pandas as pd\n",
    "import shapefile as shp\n",
    "import matplotlib.pyplot as plt\n",
    "import seaborn as sns"
   ]
  },
  {
   "cell_type": "code",
   "execution_count": 24,
   "metadata": {
    "collapsed": true
   },
   "outputs": [],
   "source": [
    "# https://chrishavlin.com/2016/11/16/shapefiles-tutorial/\n",
    "# https://towardsdatascience.com/mapping-geograph-data-in-python-610a963d2d7f\n",
    "#sns.set(style=\"whitegrid\", palette=\"pastel\", color_codes=True)\n",
    "#sns.mpl.rc(\"figure\", figsize=(10,6))\n",
    "#%matplotlib inline"
   ]
  },
  {
   "cell_type": "code",
   "execution_count": 25,
   "metadata": {
    "collapsed": true
   },
   "outputs": [],
   "source": [
    "#shp_path = \"afr_g2014_2013_0/afr_g2014_2013_0.shp\"\n",
    "#sf = shp.Reader(shp_path)"
   ]
  },
  {
   "cell_type": "code",
   "execution_count": 26,
   "metadata": {},
   "outputs": [],
   "source": [
    "#len(sf.shapes())"
   ]
  },
  {
   "cell_type": "code",
   "execution_count": 27,
   "metadata": {},
   "outputs": [],
   "source": [
    "#sf.records()[2]"
   ]
  },
  {
   "cell_type": "code",
   "execution_count": 28,
   "metadata": {},
   "outputs": [],
   "source": [
    "#sf.records()[1][5]"
   ]
  },
  {
   "cell_type": "code",
   "execution_count": 29,
   "metadata": {
    "collapsed": true
   },
   "outputs": [],
   "source": [
    "#fields = [x[0] for x in sf.fields][1:]\n",
    "#records = sf.records()\n",
    "#shps = [s.points for s in sf.shapes()]    \n",
    "#df = pd.DataFrame(columns=fields, data=records)\n",
    "#df = df.assign(coords=shps)"
   ]
  },
  {
   "cell_type": "code",
   "execution_count": 30,
   "metadata": {
    "collapsed": true
   },
   "outputs": [],
   "source": [
    "#print(records[:58])\n",
    "#rec = [records[i][:23] for i in range(59)]\n",
    "#df = pd.DataFrame(columns=fields, data=rec)"
   ]
  },
  {
   "cell_type": "code",
   "execution_count": 31,
   "metadata": {},
   "outputs": [],
   "source": [
    "#n = len(records)\n",
    "#m = len(records[0])\n",
    "#n, m    "
   ]
  },
  {
   "cell_type": "markdown",
   "metadata": {},
   "source": [
    "def read_shapefile(sf):\n",
    "    \"\"\"\n",
    "    Read a shapefile into a Pandas dataframe with a 'coords' \n",
    "    column holding the geometry information. This uses the pyshp\n",
    "    package\n",
    "    \"\"\"\n",
    "    fields = [x[0] for x in sf.fields][1:]\n",
    "    records = sf.records()\n",
    "    n = len(records)\n",
    "    m = len(records[0])\n",
    "    rec = [records[i][:m] for i in range(n)]\n",
    "    shps = [s.points for s in sf.shapes()]    \n",
    "    df = pd.DataFrame(columns=fields, data=rec)\n",
    "    df = df.assign(coords=shps)    \n",
    "    return df"
   ]
  },
  {
   "cell_type": "code",
   "execution_count": 32,
   "metadata": {},
   "outputs": [],
   "source": [
    "#df = read_shapefile(sf)\n",
    "#df.shape"
   ]
  },
  {
   "cell_type": "code",
   "execution_count": 33,
   "metadata": {},
   "outputs": [],
   "source": [
    "#df.sample(2)"
   ]
  },
  {
   "cell_type": "code",
   "execution_count": 34,
   "metadata": {},
   "outputs": [],
   "source": [
    "#code = \"TOG\"\n",
    "#print(df[df.UNDP == code].index.get_values()[0])\n",
    "#df[df['UNDP']==code]\n",
    "#df[df['ADM0_NAME']=='Western Sahara']"
   ]
  },
  {
   "cell_type": "code",
   "execution_count": 35,
   "metadata": {},
   "outputs": [],
   "source": [
    "#df[df['ISO3']=='TOG']"
   ]
  },
  {
   "cell_type": "code",
   "execution_count": 36,
   "metadata": {
    "collapsed": true
   },
   "outputs": [],
   "source": [
    "#North = [\"MAR\",\"DZA\",\"TUN\",\"LBY\",\"EGY\",\"SDN\", \"SSD\"]\n",
    "#South = [\"NAM\",\"BWA\",\"ZAF\",\"SWZ\",\"LSO\"] \n",
    "#Central = [\"TCD\",\"CAF\",\"CMR\",\"GNQ\",\"GAB\",\"COG\",\"COD\",\"AGO\", \"STP\"]#ok\n",
    "\n",
    "#West = [\"MRT\",\"SEN\",\"GMB\",\"GIN\",\"SLE\",\"LBR\",\"GHA\",\"TGO\",\"BEN\",\"NGA\", \"BFA\", \"CPV\", \"CIV\", \"GNB\", \"MLI\", \"NER\"]\n",
    "#East = [\"BDI\", \"COM\", \"DJI\", \"ERI\", \"ETH\", \"KEN\", \"MDG\", \"MWI\", \"MUS\", \"MOZ\", \"RWA\", \"SYC\", \"SOM\", \"UGA\", \"ZMB\", \"ZWE\", \"TZA\"]"
   ]
  },
  {
   "cell_type": "markdown",
   "metadata": {},
   "source": [
    "middle=c(\"CHA\",\"CAR\",\"CAM\",\"EQG\",\"GAB\",\"CNG\",\"ZAI\",\"ANG\")\n",
    "west=c(\"CAP\",\"MAU\",\"SEN\",\"GAM\",\"GUB\",\"WES\",\"GIN\",\"SIL\",\"LIB\",\"CDI\",\"MAL\",\"BUF\",\"GHA\",\"TOG\",\"BEN\",\"NIG\",\"NIR\")\n",
    "east=c(\"MOZ\",\"COM\",\"STP\",\"ERI\",\"ETH\",\"UGA\",\"KEN\",\"DJI\",\"SOM\",\"RWA\",\"BUR\",\"TAN\",\"MAA\",\"ZIM\",\"ZAM\",\"MAD\" )"
   ]
  },
  {
   "cell_type": "markdown",
   "metadata": {},
   "source": [
    "def plot_shape(id, s=None):\n",
    "    \"\"\" PLOTS A SINGLE SHAPE \"\"\"\n",
    "    plt.figure()\n",
    "    ax = plt.axes()\n",
    "    ax.set_aspect('equal')\n",
    "    shape_ex = sf.shape(id)\n",
    "    x_lon = np.zeros((len(shape_ex.points),1))\n",
    "    y_lat = np.zeros((len(shape_ex.points),1))\n",
    "    for ip in range(len(shape_ex.points)):\n",
    "        x_lon[ip] = shape_ex.points[ip][0]\n",
    "        y_lat[ip] = shape_ex.points[ip][1]    \n",
    "        plt.plot(x_lon,y_lat) \n",
    "    x0 = np.mean(x_lon)\n",
    "    y0 = np.mean(y_lat)\n",
    "    plt.text(x0, y0, s, fontsize=10)\n",
    "    ##### use bbox (bounding box) to set plot limits\n",
    "    plt.xlim(shape_ex.bbox[0],shape_ex.bbox[2])\n",
    "    return x0, y0"
   ]
  },
  {
   "cell_type": "code",
   "execution_count": 37,
   "metadata": {},
   "outputs": [],
   "source": [
    "#comuna = 'Tunisia'\n",
    "#com_id = df[df.ADM0_NAME == comuna].index.get_values()[0]\n",
    "#plot_shape(com_id, comuna)\n",
    "#print(com_id)"
   ]
  },
  {
   "cell_type": "markdown",
   "metadata": {},
   "source": [
    "shape_ex = sf.shape(53)\n",
    "#len(shape_ex.points)\n",
    "x_lon = np.zeros((len(shape_ex.points),1))\n",
    "y_lat = np.zeros((len(shape_ex.points),1))\n",
    "for ip in range(len(shape_ex.points)):\n",
    "    x_lon[ip] = shape_ex.points[ip][0]\n",
    "    y_lat[ip] = shape_ex.points[ip][1]\n",
    "plt.plot(x_lon,y_lat,'k')\n",
    "#### use bbox (bounding box) to set plot limits\n",
    "plt.xlim(shape_ex.bbox[0],shape_ex.bbox[2])"
   ]
  },
  {
   "cell_type": "markdown",
   "metadata": {},
   "source": [
    "npoints=len(shape_ex.points) # total points\n",
    "nparts = len(shape_ex.parts) # total parts\n",
    "shape=shape_ex\n",
    "if nparts == 1:\n",
    "    x_lon = np.zeros((len(shape.points),1))\n",
    "    y_lat = np.zeros((len(shape.points),1))\n",
    "    for ip in range(len(shape.points)):\n",
    "            x_lon[ip] = shape.points[ip][0]\n",
    "            y_lat[ip] = shape.points[ip][1]\n",
    "    plt.plot(x_lon,y_lat)\n",
    "else: # loop over parts of each shape, plot separately\n",
    "        for ip in range(nparts): # loop over parts, plot separately\n",
    "            i0=shape.parts[ip]\n",
    "            if ip < nparts-1:\n",
    "                i1 = shape.parts[ip+1]-1\n",
    "            else:\n",
    "                i1 = npoints\n",
    "\n",
    "            seg=shape.points[i0:i1+1]\n",
    "            x_lon = np.zeros((len(seg),1))\n",
    "            y_lat = np.zeros((len(seg),1))\n",
    "            for ip in range(len(seg)):\n",
    "                x_lon[ip] = seg[ip][0]\n",
    "                y_lat[ip] = seg[ip][1]\n",
    "\n",
    "\n",
    "plt.plot(x_lon,y_lat)\n",
    "plt.xlim(7,12)\n",
    "plt.ylim(30,38)"
   ]
  },
  {
   "cell_type": "markdown",
   "metadata": {},
   "source": [
    "plt.figure()\n",
    "ax = plt.axes() # add the axes\n",
    "ax.set_aspect('equal')\n",
    "\n",
    "for shape in list(sf.iterShapes()):\n",
    "    npoints=len(shape.points) # total points\n",
    "    nparts = len(shape.parts) # total parts\n",
    "\n",
    "    if nparts == 1:\n",
    "        x_lon = np.zeros((len(shape.points),1))\n",
    "        y_lat = np.zeros((len(shape.points),1))\n",
    "        for ip in range(len(shape.points)):\n",
    "            x_lon[ip] = shape.points[ip][0]\n",
    "            y_lat[ip] = shape.points[ip][1]\n",
    "        plt.plot(x_lon,y_lat)\n",
    "\n",
    "    else: # loop over parts of each shape, plot separately\n",
    "        for ip in range(nparts): # loop over parts, plot separately\n",
    "            i0=shape.parts[ip]\n",
    "            if ip < nparts-1:\n",
    "                i1 = shape.parts[ip+1]-1\n",
    "            else:\n",
    "                i1 = npoints\n",
    "\n",
    "            seg=shape.points[i0:i1+1]\n",
    "            x_lon = np.zeros((len(seg),1))\n",
    "            y_lat = np.zeros((len(seg),1))\n",
    "            for ip in range(len(seg)):\n",
    "                x_lon[ip] = seg[ip][0]\n",
    "                y_lat[ip] = seg[ip][1]\n",
    "        \n",
    "        plt.plot(x_lon,y_lat)\n",
    "#plt.xlim(shape_ex.bbox[0],shape_ex.bbox[2])\n",
    "plt.show()"
   ]
  },
  {
   "cell_type": "code",
   "execution_count": 38,
   "metadata": {
    "collapsed": true
   },
   "outputs": [],
   "source": [
    "import geopandas as gp\n",
    "import numpy as np\n",
    "import matplotlib.pyplot as plt\n",
    "import sys\n",
    "path = gp.datasets.get_path('naturalearth_lowres')\n",
    "earth = gp.read_file(path)\n",
    "africa = earth[earth.continent=='Africa'].copy()"
   ]
  },
  {
   "cell_type": "code",
   "execution_count": 39,
   "metadata": {},
   "outputs": [
    {
     "data": {
      "text/plain": [
       "geopandas.geodataframe.GeoDataFrame"
      ]
     },
     "execution_count": 39,
     "metadata": {},
     "output_type": "execute_result"
    }
   ],
   "source": [
    "type(africa)"
   ]
  },
  {
   "cell_type": "code",
   "execution_count": 40,
   "metadata": {},
   "outputs": [
    {
     "data": {
      "text/plain": [
       "geopandas.geoseries.GeoSeries"
      ]
     },
     "execution_count": 40,
     "metadata": {},
     "output_type": "execute_result"
    }
   ],
   "source": [
    "type(africa.geometry)"
   ]
  },
  {
   "cell_type": "code",
   "execution_count": 41,
   "metadata": {},
   "outputs": [
    {
     "data": {
      "text/plain": [
       "shapely.geometry.polygon.Polygon"
      ]
     },
     "execution_count": 41,
     "metadata": {},
     "output_type": "execute_result"
    }
   ],
   "source": [
    "type(africa.geometry[0])"
   ]
  },
  {
   "cell_type": "code",
   "execution_count": 42,
   "metadata": {},
   "outputs": [
    {
     "data": {
      "image/png": "[encoded data removed]",
      "text/plain": [
       "<Figure size 432x288 with 1 Axes>"
      ]
     },
     "metadata": {},
     "output_type": "display_data"
    }
   ],
   "source": [
    "africa.plot()\n",
    "plt.show()"
   ]
  },
  {
   "cell_type": "code",
   "execution_count": 43,
   "metadata": {},
   "outputs": [
    {
     "data": {
      "text/plain": [
       "Index(['pop_est', 'continent', 'name', 'iso_a3', 'gdp_md_est', 'geometry'], dtype='object')"
      ]
     },
     "execution_count": 43,
     "metadata": {},
     "output_type": "execute_result"
    }
   ],
   "source": [
    "africa.columns"
   ]
  },
  {
   "cell_type": "code",
   "execution_count": 44,
   "metadata": {},
   "outputs": [],
   "source": [
    "#!pip install geopandas\n",
    "#!pip install descartes"
   ]
  },
  {
   "cell_type": "code",
   "execution_count": 45,
   "metadata": {},
   "outputs": [
    {
     "name": "stdout",
     "output_type": "stream",
     "text": [
      "['East', 'West', 'Central', 'East', 'East', 'North', 'Central', 'South', 'South', 'East', 'South', 'South', 'West', 'West', 'West', 'West', 'West', 'West', 'Central', 'West', 'West', 'West', 'West', 'West', 'West', 'West', 'West', 'Central', 'Central', 'Central', 'Central', 'East', 'East', 'East', 'South', 'Central', 'East', 'East', 'West', 'North', 'North', 'East', 'North', 'North', 'North', 'East', 'East', 'East', 'East', 'East', 'North']\n"
     ]
    }
   ],
   "source": [
    "t = africa['iso_a3'].copy()\n",
    "reg = ['NULL' for i in range(len(t))]\n",
    "for i in range(51):\n",
    "    x = t.iloc[i]\n",
    "    if x in North:\n",
    "        reg[i] = 'North'\n",
    "        #print(reg)\n",
    "    elif x in East:\n",
    "        reg[i] = 'East'\n",
    "    elif x in West:\n",
    "        reg[i] = 'West'\n",
    "    elif x in Central:\n",
    "        reg[i] = 'Central'\n",
    "    elif x in South:\n",
    "        reg[i] = 'South'\n",
    "    else:\n",
    "        reg[i] = 'NULL'\n",
    "print(reg)\n",
    "africa['Region'] = reg\n",
    "africa = africa.sort_values('Region').copy()"
   ]
  },
  {
   "cell_type": "code",
   "execution_count": 46,
   "metadata": {},
   "outputs": [
    {
     "data": {
      "text/html": [
       "<div>\n",
       "<style scoped>\n",
       "    .dataframe tbody tr th:only-of-type {\n",
       "        vertical-align: middle;\n",
       "    }\n",
       "\n",
       "    .dataframe tbody tr th {\n",
       "        vertical-align: top;\n",
       "    }\n",
       "\n",
       "    .dataframe thead th {\n",
       "        text-align: right;\n",
       "    }\n",
       "</style>\n",
       "<table border=\"1\" class=\"dataframe\">\n",
       "  <thead>\n",
       "    <tr style=\"text-align: right;\">\n",
       "      <th></th>\n",
       "      <th>pop_est</th>\n",
       "      <th>continent</th>\n",
       "      <th>name</th>\n",
       "      <th>iso_a3</th>\n",
       "      <th>gdp_md_est</th>\n",
       "      <th>geometry</th>\n",
       "      <th>Region</th>\n",
       "    </tr>\n",
       "  </thead>\n",
       "  <tbody>\n",
       "    <tr>\n",
       "      <th>73</th>\n",
       "      <td>1467152</td>\n",
       "      <td>Africa</td>\n",
       "      <td>eSwatini</td>\n",
       "      <td>SWZ</td>\n",
       "      <td>11060.0</td>\n",
       "      <td>POLYGON ((32.07166548028107 -26.73382008230491...</td>\n",
       "      <td>South</td>\n",
       "    </tr>\n",
       "    <tr>\n",
       "      <th>11</th>\n",
       "      <td>83301151</td>\n",
       "      <td>Africa</td>\n",
       "      <td>Dem. Rep. Congo</td>\n",
       "      <td>COD</td>\n",
       "      <td>66010.0</td>\n",
       "      <td>POLYGON ((29.33999759290035 -4.499983412294092...</td>\n",
       "      <td>Central</td>\n",
       "    </tr>\n",
       "    <tr>\n",
       "      <th>61</th>\n",
       "      <td>12413867</td>\n",
       "      <td>Africa</td>\n",
       "      <td>Guinea</td>\n",
       "      <td>GIN</td>\n",
       "      <td>16080.0</td>\n",
       "      <td>POLYGON ((-13.70047604008433 12.58618296961019...</td>\n",
       "      <td>West</td>\n",
       "    </tr>\n",
       "    <tr>\n",
       "      <th>168</th>\n",
       "      <td>39570125</td>\n",
       "      <td>Africa</td>\n",
       "      <td>Uganda</td>\n",
       "      <td>UGA</td>\n",
       "      <td>84930.0</td>\n",
       "      <td>POLYGON ((33.90371119710453 -0.950000000000000...</td>\n",
       "      <td>East</td>\n",
       "    </tr>\n",
       "    <tr>\n",
       "      <th>166</th>\n",
       "      <td>865267</td>\n",
       "      <td>Africa</td>\n",
       "      <td>Djibouti</td>\n",
       "      <td>DJI</td>\n",
       "      <td>3345.0</td>\n",
       "      <td>POLYGON ((42.35156000000012 12.54223000000013,...</td>\n",
       "      <td>East</td>\n",
       "    </tr>\n",
       "  </tbody>\n",
       "</table>\n",
       "</div>"
      ],
      "text/plain": [
       "      pop_est continent             name iso_a3  gdp_md_est  \\\n",
       "73    1467152    Africa         eSwatini    SWZ     11060.0   \n",
       "11   83301151    Africa  Dem. Rep. Congo    COD     66010.0   \n",
       "61   12413867    Africa           Guinea    GIN     16080.0   \n",
       "168  39570125    Africa           Uganda    UGA     84930.0   \n",
       "166    865267    Africa         Djibouti    DJI      3345.0   \n",
       "\n",
       "                                              geometry   Region  \n",
       "73   POLYGON ((32.07166548028107 -26.73382008230491...    South  \n",
       "11   POLYGON ((29.33999759290035 -4.499983412294092...  Central  \n",
       "61   POLYGON ((-13.70047604008433 12.58618296961019...     West  \n",
       "168  POLYGON ((33.90371119710453 -0.950000000000000...     East  \n",
       "166  POLYGON ((42.35156000000012 12.54223000000013,...     East  "
      ]
     },
     "execution_count": 46,
     "metadata": {},
     "output_type": "execute_result"
    }
   ],
   "source": [
    "africa.sample(5)"
   ]
  },
  {
   "cell_type": "code",
   "execution_count": 47,
   "metadata": {},
   "outputs": [],
   "source": [
    "#lungsomme = lungsomme/lungsomme.max().astype(np.float64)"
   ]
  },
  {
   "cell_type": "code",
   "execution_count": 48,
   "metadata": {},
   "outputs": [
    {
     "data": {
      "text/html": [
       "<div>\n",
       "<style scoped>\n",
       "    .dataframe tbody tr th:only-of-type {\n",
       "        vertical-align: middle;\n",
       "    }\n",
       "\n",
       "    .dataframe tbody tr th {\n",
       "        vertical-align: top;\n",
       "    }\n",
       "\n",
       "    .dataframe thead th {\n",
       "        text-align: right;\n",
       "    }\n",
       "</style>\n",
       "<table border=\"1\" class=\"dataframe\">\n",
       "  <thead>\n",
       "    <tr style=\"text-align: right;\">\n",
       "      <th></th>\n",
       "      <th>2002</th>\n",
       "      <th>2008</th>\n",
       "      <th>2012</th>\n",
       "      <th>2018</th>\n",
       "    </tr>\n",
       "  </thead>\n",
       "  <tbody>\n",
       "    <tr>\n",
       "      <th>North</th>\n",
       "      <td>7.1</td>\n",
       "      <td>8.55</td>\n",
       "      <td>9.35</td>\n",
       "      <td>10.15</td>\n",
       "    </tr>\n",
       "    <tr>\n",
       "      <th>West</th>\n",
       "      <td>1.5</td>\n",
       "      <td>2.15</td>\n",
       "      <td>1.40</td>\n",
       "      <td>1.80</td>\n",
       "    </tr>\n",
       "    <tr>\n",
       "      <th>Central</th>\n",
       "      <td>2.7</td>\n",
       "      <td>1.85</td>\n",
       "      <td>1.40</td>\n",
       "      <td>3.05</td>\n",
       "    </tr>\n",
       "    <tr>\n",
       "      <th>East</th>\n",
       "      <td>2.9</td>\n",
       "      <td>2.75</td>\n",
       "      <td>3.00</td>\n",
       "      <td>2.80</td>\n",
       "    </tr>\n",
       "    <tr>\n",
       "      <th>South</th>\n",
       "      <td>15.0</td>\n",
       "      <td>18.50</td>\n",
       "      <td>18.15</td>\n",
       "      <td>17.45</td>\n",
       "    </tr>\n",
       "  </tbody>\n",
       "</table>\n",
       "</div>"
      ],
      "text/plain": [
       "         2002   2008   2012   2018\n",
       "North     7.1   8.55   9.35  10.15\n",
       "West      1.5   2.15   1.40   1.80\n",
       "Central   2.7   1.85   1.40   3.05\n",
       "East      2.9   2.75   3.00   2.80\n",
       "South    15.0  18.50  18.15  17.45"
      ]
     },
     "execution_count": 48,
     "metadata": {},
     "output_type": "execute_result"
    }
   ],
   "source": [
    "lungsomme"
   ]
  },
  {
   "cell_type": "code",
   "execution_count": 49,
   "metadata": {},
   "outputs": [
    {
     "name": "stdout",
     "output_type": "stream",
     "text": [
      "Central\n",
      "2.9000000000000004\n",
      "Central\n",
      "2.75\n",
      "Central\n",
      "3.0\n",
      "Central\n",
      "2.8\n"
     ]
    }
   ],
   "source": [
    "LC = lungsomme['2002']\n",
    "reg = [0 for i in range(51)]\n",
    "for i in range(51):\n",
    "    x = africa['Region'].iloc[i]\n",
    "    #print(x,)\n",
    "    if x == 'North':\n",
    "        reg[i] = LC.iloc[0]\n",
    "        #print(reg)\n",
    "    elif x == 'East':\n",
    "        reg[i] = LC.iloc[1]\n",
    "    elif x == 'West':\n",
    "        reg[i] = LC.iloc[2]\n",
    "    elif x == 'Central':\n",
    "        reg[i] = LC.iloc[3]\n",
    "    elif x == 'South':\n",
    "        reg[i] = LC.iloc[4]\n",
    "print(africa['Region'].iloc[0]), print(reg[0])\n",
    "africa['Lung2002'] = reg\n",
    "\n",
    "LC = lungsomme['2008']\n",
    "reg = [0 for i in range(51)]\n",
    "for i in range(51):\n",
    "    x = africa['Region'].iloc[i]\n",
    "    #print(x,)\n",
    "    if x == 'North':\n",
    "        reg[i] = LC.iloc[0]\n",
    "        #print(reg)\n",
    "    elif x == 'East':\n",
    "        reg[i] = LC.iloc[1]\n",
    "    elif x == 'West':\n",
    "        reg[i] = LC.iloc[2]\n",
    "    elif x == 'Central':\n",
    "        reg[i] = LC.iloc[3]\n",
    "    elif x == 'South':\n",
    "        reg[i] = LC.iloc[4]\n",
    "print(africa['Region'].iloc[0]), print(reg[0])\n",
    "africa['Lung2008'] = reg\n",
    "\n",
    "LC = lungsomme['2012']\n",
    "reg = [0 for i in range(51)]\n",
    "for i in range(51):\n",
    "    x = africa['Region'].iloc[i]\n",
    "    #print(x,)\n",
    "    if x == 'North':\n",
    "        reg[i] = LC.iloc[0]\n",
    "        #print(reg)\n",
    "    elif x == 'East':\n",
    "        reg[i] = LC.iloc[1]\n",
    "    elif x == 'West':\n",
    "        reg[i] = LC.iloc[2]\n",
    "    elif x == 'Central':\n",
    "        reg[i] = LC.iloc[3]\n",
    "    elif x == 'South':\n",
    "        reg[i] = LC.iloc[4]\n",
    "print(africa['Region'].iloc[0]), print(reg[0])\n",
    "africa['Lung2012'] = reg\n",
    "\n",
    "LC = lungsomme['2018']\n",
    "reg = [0 for i in range(51)]\n",
    "for i in range(51):\n",
    "    x = africa['Region'].iloc[i]\n",
    "    #print(x,)\n",
    "    if x == 'North':\n",
    "        reg[i] = LC.iloc[0]\n",
    "        #print(reg)\n",
    "    elif x == 'East':\n",
    "        reg[i] = LC.iloc[1]\n",
    "    elif x == 'West':\n",
    "        reg[i] = LC.iloc[2]\n",
    "    elif x == 'Central':\n",
    "        reg[i] = LC.iloc[3]\n",
    "    elif x == 'South':\n",
    "        reg[i] = LC.iloc[4]\n",
    "print(africa['Region'].iloc[0]), print(reg[0])\n",
    "africa['Lung2018'] = reg\n"
   ]
  },
  {
   "cell_type": "code",
   "execution_count": 50,
   "metadata": {},
   "outputs": [
    {
     "data": {
      "text/html": [
       "<div>\n",
       "<style scoped>\n",
       "    .dataframe tbody tr th:only-of-type {\n",
       "        vertical-align: middle;\n",
       "    }\n",
       "\n",
       "    .dataframe tbody tr th {\n",
       "        vertical-align: top;\n",
       "    }\n",
       "\n",
       "    .dataframe thead th {\n",
       "        text-align: right;\n",
       "    }\n",
       "</style>\n",
       "<table border=\"1\" class=\"dataframe\">\n",
       "  <thead>\n",
       "    <tr style=\"text-align: right;\">\n",
       "      <th></th>\n",
       "      <th>pop_est</th>\n",
       "      <th>continent</th>\n",
       "      <th>name</th>\n",
       "      <th>iso_a3</th>\n",
       "      <th>gdp_md_est</th>\n",
       "      <th>geometry</th>\n",
       "      <th>Region</th>\n",
       "      <th>Lung2002</th>\n",
       "      <th>Lung2008</th>\n",
       "      <th>Lung2012</th>\n",
       "      <th>Lung2018</th>\n",
       "    </tr>\n",
       "  </thead>\n",
       "  <tbody>\n",
       "    <tr>\n",
       "      <th>48</th>\n",
       "      <td>13805084</td>\n",
       "      <td>Africa</td>\n",
       "      <td>Zimbabwe</td>\n",
       "      <td>ZWE</td>\n",
       "      <td>28330.0</td>\n",
       "      <td>POLYGON ((31.19140913262129 -22.2515096981724,...</td>\n",
       "      <td>East</td>\n",
       "      <td>1.5</td>\n",
       "      <td>2.15</td>\n",
       "      <td>1.40</td>\n",
       "      <td>1.80</td>\n",
       "    </tr>\n",
       "    <tr>\n",
       "      <th>63</th>\n",
       "      <td>4689021</td>\n",
       "      <td>Africa</td>\n",
       "      <td>Liberia</td>\n",
       "      <td>LBR</td>\n",
       "      <td>3881.0</td>\n",
       "      <td>POLYGON ((-8.439298468448698 7.686042792181738...</td>\n",
       "      <td>West</td>\n",
       "      <td>2.7</td>\n",
       "      <td>1.85</td>\n",
       "      <td>1.40</td>\n",
       "      <td>3.05</td>\n",
       "    </tr>\n",
       "    <tr>\n",
       "      <th>53</th>\n",
       "      <td>3758571</td>\n",
       "      <td>Africa</td>\n",
       "      <td>Mauritania</td>\n",
       "      <td>MRT</td>\n",
       "      <td>16710.0</td>\n",
       "      <td>POLYGON ((-17.06342322434257 20.99975210213083...</td>\n",
       "      <td>West</td>\n",
       "      <td>2.7</td>\n",
       "      <td>1.85</td>\n",
       "      <td>1.40</td>\n",
       "      <td>3.05</td>\n",
       "    </tr>\n",
       "    <tr>\n",
       "      <th>52</th>\n",
       "      <td>17885245</td>\n",
       "      <td>Africa</td>\n",
       "      <td>Mali</td>\n",
       "      <td>MLI</td>\n",
       "      <td>38090.0</td>\n",
       "      <td>POLYGON ((-11.51394283695059 12.44298757572942...</td>\n",
       "      <td>West</td>\n",
       "      <td>2.7</td>\n",
       "      <td>1.85</td>\n",
       "      <td>1.40</td>\n",
       "      <td>3.05</td>\n",
       "    </tr>\n",
       "    <tr>\n",
       "      <th>25</th>\n",
       "      <td>54841552</td>\n",
       "      <td>Africa</td>\n",
       "      <td>South Africa</td>\n",
       "      <td>ZAF</td>\n",
       "      <td>739100.0</td>\n",
       "      <td>POLYGON ((16.34497684089524 -28.5767050106977,...</td>\n",
       "      <td>South</td>\n",
       "      <td>15.0</td>\n",
       "      <td>18.50</td>\n",
       "      <td>18.15</td>\n",
       "      <td>17.45</td>\n",
       "    </tr>\n",
       "  </tbody>\n",
       "</table>\n",
       "</div>"
      ],
      "text/plain": [
       "     pop_est continent          name iso_a3  gdp_md_est  \\\n",
       "48  13805084    Africa      Zimbabwe    ZWE     28330.0   \n",
       "63   4689021    Africa       Liberia    LBR      3881.0   \n",
       "53   3758571    Africa    Mauritania    MRT     16710.0   \n",
       "52  17885245    Africa          Mali    MLI     38090.0   \n",
       "25  54841552    Africa  South Africa    ZAF    739100.0   \n",
       "\n",
       "                                             geometry Region  Lung2002  \\\n",
       "48  POLYGON ((31.19140913262129 -22.2515096981724,...   East       1.5   \n",
       "63  POLYGON ((-8.439298468448698 7.686042792181738...   West       2.7   \n",
       "53  POLYGON ((-17.06342322434257 20.99975210213083...   West       2.7   \n",
       "52  POLYGON ((-11.51394283695059 12.44298757572942...   West       2.7   \n",
       "25  POLYGON ((16.34497684089524 -28.5767050106977,...  South      15.0   \n",
       "\n",
       "    Lung2008  Lung2012  Lung2018  \n",
       "48      2.15      1.40      1.80  \n",
       "63      1.85      1.40      3.05  \n",
       "53      1.85      1.40      3.05  \n",
       "52      1.85      1.40      3.05  \n",
       "25     18.50     18.15     17.45  "
      ]
     },
     "execution_count": 50,
     "metadata": {},
     "output_type": "execute_result"
    }
   ],
   "source": [
    "#africa.geometry.apply(touches)\n",
    "africa.sample(5)"
   ]
  },
  {
   "cell_type": "code",
   "execution_count": 51,
   "metadata": {},
   "outputs": [
    {
     "data": {
      "image/png": "[encoded data removed]",
      "text/plain": [
       "<Figure size 432x288 with 1 Axes>"
      ]
     },
     "metadata": {},
     "output_type": "display_data"
    }
   ],
   "source": [
    "#https://geopandas.readthedocs.io/en/latest/gallery/plotting_basemap_background.html\n",
    "from matplotlib import cm\n",
    "cmap = cm.get_cmap('tab20c')\n",
    "fig, ax = plt.subplots()\n",
    "africa.plot(column='Lung2002', cmap=cmap, linewidth=0.3, ax=ax, edgecolor='.3')\n",
    "ax.axis('off')\n",
    "plt.show()"
   ]
  },
  {
   "cell_type": "code",
   "execution_count": 52,
   "metadata": {},
   "outputs": [
    {
     "data": {
      "text/html": [
       "<div>\n",
       "<style scoped>\n",
       "    .dataframe tbody tr th:only-of-type {\n",
       "        vertical-align: middle;\n",
       "    }\n",
       "\n",
       "    .dataframe tbody tr th {\n",
       "        vertical-align: top;\n",
       "    }\n",
       "\n",
       "    .dataframe thead th {\n",
       "        text-align: right;\n",
       "    }\n",
       "</style>\n",
       "<table border=\"1\" class=\"dataframe\">\n",
       "  <thead>\n",
       "    <tr style=\"text-align: right;\">\n",
       "      <th></th>\n",
       "      <th>pop_est</th>\n",
       "      <th>continent</th>\n",
       "      <th>name</th>\n",
       "      <th>iso_a3</th>\n",
       "      <th>gdp_md_est</th>\n",
       "      <th>geometry</th>\n",
       "      <th>Region</th>\n",
       "      <th>Lung2002</th>\n",
       "      <th>Lung2008</th>\n",
       "      <th>Lung2012</th>\n",
       "      <th>Lung2018</th>\n",
       "    </tr>\n",
       "  </thead>\n",
       "  <tbody>\n",
       "    <tr>\n",
       "      <th>154</th>\n",
       "      <td>5918919</td>\n",
       "      <td>Africa</td>\n",
       "      <td>Eritrea</td>\n",
       "      <td>ERI</td>\n",
       "      <td>9169.0</td>\n",
       "      <td>POLYGON ((36.42951000000005 14.42211000000003,...</td>\n",
       "      <td>East</td>\n",
       "      <td>1.5</td>\n",
       "      <td>2.15</td>\n",
       "      <td>1.4</td>\n",
       "      <td>1.8</td>\n",
       "    </tr>\n",
       "  </tbody>\n",
       "</table>\n",
       "</div>"
      ],
      "text/plain": [
       "     pop_est continent     name iso_a3  gdp_md_est  \\\n",
       "154  5918919    Africa  Eritrea    ERI      9169.0   \n",
       "\n",
       "                                              geometry Region  Lung2002  \\\n",
       "154  POLYGON ((36.42951000000005 14.42211000000003,...   East       1.5   \n",
       "\n",
       "     Lung2008  Lung2012  Lung2018  \n",
       "154      2.15       1.4       1.8  "
      ]
     },
     "execution_count": 52,
     "metadata": {},
     "output_type": "execute_result"
    }
   ],
   "source": [
    "africa.sample()"
   ]
  },
  {
   "cell_type": "code",
   "execution_count": 53,
   "metadata": {},
   "outputs": [
    {
     "data": {
      "image/png": "[encoded data removed]",
      "text/plain": [
       "<Figure size 432x288 with 2 Axes>"
      ]
     },
     "metadata": {},
     "output_type": "display_data"
    }
   ],
   "source": [
    "fig, ax = plt.subplots(1, 1)\n",
    "#africa.plot(column='Lung2002');\n",
    "africa.plot(column='Lung2018', cmap=cmap,\n",
    "            ax=ax, legend=True, \n",
    "            legend_kwds={'label': \"Incidence for Lung cancer\", 'orientation': \"horizontal\"})\n",
    "plt.show()"
   ]
  },
  {
   "cell_type": "markdown",
   "metadata": {},
   "source": [
    "ValueError: Colormap Red is not recognized. Possible values are: Accent, Accent_r, Blues, Blues_r, BrBG, BrBG_r, BuGn, BuGn_r, BuPu, BuPu_r, CMRmap, CMRmap_r, Dark2, Dark2_r, GnBu, GnBu_r, Greens, Greens_r, Greys, Greys_r, OrRd, OrRd_r, Oranges, Oranges_r, PRGn, PRGn_r, Paired, Paired_r, Pastel1, Pastel1_r, Pastel2, Pastel2_r, PiYG, PiYG_r, PuBu, PuBuGn, PuBuGn_r, PuBu_r, PuOr, PuOr_r, PuRd, PuRd_r, Purples, Purples_r, RdBu, RdBu_r, RdGy, RdGy_r, RdPu, RdPu_r, RdYlBu, RdYlBu_r, RdYlGn, RdYlGn_r, Reds, Reds_r, Set1, Set1_r, Set2, Set2_r, Set3, Set3_r, Spectral, Spectral_r, Wistia, Wistia_r, YlGn, YlGnBu, YlGnBu_r, YlGn_r, YlOrBr, YlOrBr_r, YlOrRd, YlOrRd_r, afmhot, afmhot_r, autumn, autumn_r, binary, binary_r, bone, bone_r, brg, brg_r, bwr, bwr_r, cividis, cividis_r, cool, cool_r, coolwarm, coolwarm_r, copper, copper_r, cubehelix, cubehelix_r, flag, flag_r, gist_earth, gist_earth_r, gist_gray, gist_gray_r, gist_heat, gist_heat_r, gist_ncar, gist_ncar_r, gist_rainbow, gist_rainbow_r, gist_stern, gist_stern_r, gist_yarg, gist_yarg_r, gnuplot, gnuplot2, gnuplot2_r, gnuplot_r, gray, gray_r, hot, hot_r, hsv, hsv_r, icefire, icefire_r, inferno, inferno_r, jet, jet_r, magma, magma_r, mako, mako_r, nipy_spectral, nipy_spectral_r, ocean, ocean_r, pink, pink_r, plasma, plasma_r, prism, prism_r, rainbow, rainbow_r, rocket, rocket_r, seismic, seismic_r, spring, spring_r, summer, summer_r, tab10, tab10_r, tab20, tab20_r, tab20b, tab20b_r, tab20c, tab20c_r, terrain, terrain_r, twilight, twilight_r, twilight_shifted, twilight_shifted_r, viridis, viridis_r, vlag, vlag_r, winter, winter_r"
   ]
  },
  {
   "cell_type": "code",
   "execution_count": 54,
   "metadata": {},
   "outputs": [],
   "source": [
    "#!pip install mapclassify\n",
    "import mapclassify"
   ]
  },
  {
   "cell_type": "code",
   "execution_count": 107,
   "metadata": {},
   "outputs": [],
   "source": [
    "import matplotlib.pyplot as plt\n",
    "import geopandas\n",
    "cmap = cm.get_cmap('Greens')"
   ]
  },
  {
   "cell_type": "code",
   "execution_count": 108,
   "metadata": {},
   "outputs": [
    {
     "data": {
      "image/png": "[encoded data removed]",
      "text/plain": [
       "<Figure size 720x360 with 8 Axes>"
      ]
     },
     "metadata": {},
     "output_type": "display_data"
    }
   ],
   "source": [
    "cmap = cm.get_cmap('Greens')\n",
    "cmap = cm.get_cmap('tab20c')\n",
    "#from cartopy import crs as ccrs\n",
    "# Generate a figure with two axes, one for CartoPy, one for GeoPandas\n",
    "fig, axs = plt.subplots(1,4,figsize=(10, 5), sharex=True, sharey=True)\n",
    "fig.suptitle('Incidence rate of Lung cancer per 100 000')\n",
    "# Make the CartoPy plot\n",
    "line1 = africa.plot(column=\"Lung2002\", cmap=cmap, legend=True, linewidth=0.4, ax=axs[0], edgecolor='0.6',\n",
    "            legend_kwds={'label': \"2002\", 'orientation': \"horizontal\"})\n",
    "\n",
    "line2 = africa.plot(column=\"Lung2008\", cmap=cmap, legend=True, linewidth=0.4, ax=axs[1], edgecolor='0.6',\n",
    "            legend_kwds={'label': \"2008\", 'orientation': \"horizontal\"})\n",
    "\n",
    "line3 = africa.plot(column=\"Lung2012\", cmap=cmap, legend=True, linewidth=0.4, ax=axs[2], edgecolor='0.6',\n",
    "            legend_kwds={'label': \"2012\", 'orientation': \"horizontal\"})\n",
    "\n",
    "line4 = africa.plot(column=\"Lung2018\", cmap=cmap, legend=True, linewidth=0.4, ax=axs[3], edgecolor='0.6',\n",
    "            legend_kwds={'label': \"2018\", 'orientation': \"horizontal\"})\n",
    "#plt.colorbar(label='log$_{10}$(population)')\n",
    "axs[0].axis('off')\n",
    "axs[1].axis('off')\n",
    "axs[2].axis('off')\n",
    "axs[3].axis('off')\n",
    "plt.show()"
   ]
  },
  {
   "cell_type": "code",
   "execution_count": 155,
   "metadata": {},
   "outputs": [
    {
     "data": {
      "image/png": "[encoded data removed]",
      "text/plain": [
       "<Figure size 432x288 with 1 Axes>"
      ]
     },
     "metadata": {},
     "output_type": "display_data"
    }
   ],
   "source": [
    "#cmap = cm.get_cmap('Greens')\n",
    "cmap = cm.get_cmap('Set2')\n",
    "index = ['North', 'West', 'Central', 'East', 'South']\n",
    "df = pd.DataFrame(lungsomme, index=index)\n",
    "ax = df.plot.bar(rot=0, cmap=cmap)\n",
    "plt.suptitle('Lung cancer')\n",
    "plt.ylabel('Incidence per 100 000 persons')\n",
    "plt.show()"
   ]
  },
  {
   "cell_type": "code",
   "execution_count": 156,
   "metadata": {},
   "outputs": [
    {
     "data": {
      "image/png": "[encoded data removed]",
      "text/plain": [
       "<Figure size 432x288 with 1 Axes>"
      ]
     },
     "metadata": {},
     "output_type": "display_data"
    }
   ],
   "source": [
    "df.transpose().plot.area(cmap=cmap)\n",
    "plt.suptitle('Lung cancer')\n",
    "plt.ylabel('Incidence per 100 000 persons')\n",
    "plt.xlabel('Years from 2002 to 2018')\n",
    "plt.show()"
   ]
  },
  {
   "cell_type": "code",
   "execution_count": 126,
   "metadata": {},
   "outputs": [
    {
     "data": {
      "image/png": "[encoded data removed]",
      "text/plain": [
       "<Figure size 432x288 with 1 Axes>"
      ]
     },
     "metadata": {},
     "output_type": "display_data"
    }
   ],
   "source": [
    "df.plot(kind='bar', stacked=True, cmap=cmap)\n",
    "plt.suptitle('Lung cancer')\n",
    "plt.ylabel('Incidence per 100 000 persons')\n",
    "plt.show()"
   ]
  },
  {
   "cell_type": "code",
   "execution_count": null,
   "metadata": {},
   "outputs": [],
   "source": []
  },
  {
   "cell_type": "code",
   "execution_count": null,
   "metadata": {},
   "outputs": [],
   "source": []
  },
  {
   "cell_type": "code",
   "execution_count": 141,
   "metadata": {},
   "outputs": [
    {
     "data": {
      "text/plain": [
       "['North', 'West', 'Central', 'East', 'South']"
      ]
     },
     "execution_count": 141,
     "metadata": {},
     "output_type": "execute_result"
    }
   ],
   "source": [
    "index"
   ]
  },
  {
   "cell_type": "code",
   "execution_count": null,
   "metadata": {
    "collapsed": true
   },
   "outputs": [],
   "source": []
  },
  {
   "cell_type": "code",
   "execution_count": null,
   "metadata": {
    "collapsed": true
   },
   "outputs": [],
   "source": []
  },
  {
   "cell_type": "code",
   "execution_count": null,
   "metadata": {
    "collapsed": true
   },
   "outputs": [],
   "source": []
  },
  {
   "cell_type": "code",
   "execution_count": null,
   "metadata": {
    "collapsed": true
   },
   "outputs": [],
   "source": []
  },
  {
   "cell_type": "code",
   "execution_count": null,
   "metadata": {
    "collapsed": true
   },
   "outputs": [],
   "source": []
  },
  {
   "cell_type": "code",
   "execution_count": null,
   "metadata": {
    "collapsed": true
   },
   "outputs": [],
   "source": []
  }
 ],
 "metadata": {
  "kernelspec": {
   "display_name": "Python 3",
   "language": "python",
   "name": "python3"
  },
  "language_info": {
   "codemirror_mode": {
    "name": "ipython",
    "version": 3
   },
   "file_extension": ".py",
   "mimetype": "text/x-python",
   "name": "python",
   "nbconvert_exporter": "python",
   "pygments_lexer": "ipython3",
   "version": "3.6.4"
  }
 },
 "nbformat": 4,
 "nbformat_minor": 2
}
